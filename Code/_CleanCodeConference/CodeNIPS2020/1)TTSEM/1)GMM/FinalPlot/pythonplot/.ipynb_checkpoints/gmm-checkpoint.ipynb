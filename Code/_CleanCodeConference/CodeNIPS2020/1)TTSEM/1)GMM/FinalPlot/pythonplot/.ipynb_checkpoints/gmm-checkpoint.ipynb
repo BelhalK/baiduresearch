{
 "cells": [
  {
   "cell_type": "markdown",
   "metadata": {},
   "source": [
    "https://www.alpha-i.co/blog/MNIST-for-ML-beginners-The-Bayesian-Way.html"
   ]
  },
  {
   "cell_type": "code",
   "execution_count": 1,
   "metadata": {},
   "outputs": [],
   "source": [
    "%matplotlib inline\n",
    "import matplotlib.pyplot as plt\n",
    "import numpy as np\n",
    "import seaborn as sns\n",
    "#from edward.models import Categorical, Normal\n",
    "#import edward as ed\n",
    "import pandas as pd\n",
    "import pickle\n",
    "#ed.set_seed(314159)"
   ]
  },
  {
   "cell_type": "code",
   "execution_count": 21,
   "metadata": {},
   "outputs": [],
   "source": [
    "data = np.loadtxt(\"data.txt\")[:, 2]"
   ]
  },
  {
   "cell_type": "code",
   "execution_count": 54,
   "metadata": {},
   "outputs": [],
   "source": [
    "data2 = np.loadtxt(\"data2.txt\")[:, 3]"
   ]
  },
  {
   "cell_type": "code",
   "execution_count": 55,
   "metadata": {},
   "outputs": [
    {
     "data": {
      "text/plain": [
       "10000"
      ]
     },
     "execution_count": 55,
     "metadata": {},
     "output_type": "execute_result"
    }
   ],
   "source": [
    "len(data2[:])"
   ]
  },
  {
   "cell_type": "code",
   "execution_count": 24,
   "metadata": {},
   "outputs": [],
   "source": [
    "length = 1e5+1"
   ]
  },
  {
   "cell_type": "code",
   "execution_count": 130,
   "metadata": {},
   "outputs": [],
   "source": [
    "isaem = data[1:int(length)]\n",
    "fittem = data[(int(length)+1):(int(length)+int(length))]\n",
    "vrttem = data2[:]\n",
    "iem = data[(int(length*3)+1):(int(length*3)+int(length))]\n",
    "em = data[len(data)-4:len(data)-2]\n",
    "saem = data[len(data)-2:len(data)]"
   ]
  },
  {
   "cell_type": "code",
   "execution_count": 141,
   "metadata": {},
   "outputs": [
    {
     "data": {
      "text/plain": [
       "array([0.10964316, 0.10964088, 0.10963753, ..., 0.05684642, 0.05684598,\n",
       "       0.05684555])"
      ]
     },
     "execution_count": 141,
     "metadata": {},
     "output_type": "execute_result"
    }
   ],
   "source": [
    "isaem"
   ]
  },
  {
   "cell_type": "code",
   "execution_count": 143,
   "metadata": {},
   "outputs": [],
   "source": [
    "np.savetxt('isaem.txt', isaem, delimiter=',')\n",
    "np.savetxt('fittem.txt', fittem, delimiter=',')\n",
    "np.savetxt('vrttem.txt', vrttem, delimiter=',')\n",
    "np.savetxt('iem.txt', iem, delimiter=',')\n",
    "np.savetxt('em.txt', em, delimiter=',')\n",
    "np.savetxt('saem.txt', saem, delimiter=',')"
   ]
  },
  {
   "cell_type": "code",
   "execution_count": null,
   "metadata": {},
   "outputs": [],
   "source": []
  },
  {
   "cell_type": "code",
   "execution_count": 131,
   "metadata": {},
   "outputs": [
    {
     "data": {
      "text/plain": [
       "(100000, 100000, 10000, 100000, 2, 2)"
      ]
     },
     "execution_count": 131,
     "metadata": {},
     "output_type": "execute_result"
    }
   ],
   "source": [
    "len(isaem),len(fittem),len(vrsaem),len(iem),len(em),len(saem)"
   ]
  },
  {
   "cell_type": "code",
   "execution_count": 132,
   "metadata": {},
   "outputs": [],
   "source": [
    "total = len(isaem)+len(fittem)+len(vrsaem)+len(iem)+len(em)+len(saem)"
   ]
  },
  {
   "cell_type": "code",
   "execution_count": 133,
   "metadata": {},
   "outputs": [],
   "source": [
    "finaldf = pd.DataFrame(columns=['method', 'value'], index=range(total))"
   ]
  },
  {
   "cell_type": "code",
   "execution_count": 134,
   "metadata": {},
   "outputs": [
    {
     "data": {
      "text/html": [
       "<div>\n",
       "<style scoped>\n",
       "    .dataframe tbody tr th:only-of-type {\n",
       "        vertical-align: middle;\n",
       "    }\n",
       "\n",
       "    .dataframe tbody tr th {\n",
       "        vertical-align: top;\n",
       "    }\n",
       "\n",
       "    .dataframe thead th {\n",
       "        text-align: right;\n",
       "    }\n",
       "</style>\n",
       "<table border=\"1\" class=\"dataframe\">\n",
       "  <thead>\n",
       "    <tr style=\"text-align: right;\">\n",
       "      <th></th>\n",
       "      <th>method</th>\n",
       "      <th>value</th>\n",
       "    </tr>\n",
       "  </thead>\n",
       "  <tbody>\n",
       "    <tr>\n",
       "      <th>0</th>\n",
       "      <td>NaN</td>\n",
       "      <td>NaN</td>\n",
       "    </tr>\n",
       "    <tr>\n",
       "      <th>1</th>\n",
       "      <td>NaN</td>\n",
       "      <td>NaN</td>\n",
       "    </tr>\n",
       "    <tr>\n",
       "      <th>2</th>\n",
       "      <td>NaN</td>\n",
       "      <td>NaN</td>\n",
       "    </tr>\n",
       "    <tr>\n",
       "      <th>3</th>\n",
       "      <td>NaN</td>\n",
       "      <td>NaN</td>\n",
       "    </tr>\n",
       "    <tr>\n",
       "      <th>4</th>\n",
       "      <td>NaN</td>\n",
       "      <td>NaN</td>\n",
       "    </tr>\n",
       "    <tr>\n",
       "      <th>...</th>\n",
       "      <td>...</td>\n",
       "      <td>...</td>\n",
       "    </tr>\n",
       "    <tr>\n",
       "      <th>309999</th>\n",
       "      <td>NaN</td>\n",
       "      <td>NaN</td>\n",
       "    </tr>\n",
       "    <tr>\n",
       "      <th>310000</th>\n",
       "      <td>NaN</td>\n",
       "      <td>NaN</td>\n",
       "    </tr>\n",
       "    <tr>\n",
       "      <th>310001</th>\n",
       "      <td>NaN</td>\n",
       "      <td>NaN</td>\n",
       "    </tr>\n",
       "    <tr>\n",
       "      <th>310002</th>\n",
       "      <td>NaN</td>\n",
       "      <td>NaN</td>\n",
       "    </tr>\n",
       "    <tr>\n",
       "      <th>310003</th>\n",
       "      <td>NaN</td>\n",
       "      <td>NaN</td>\n",
       "    </tr>\n",
       "  </tbody>\n",
       "</table>\n",
       "<p>310004 rows × 2 columns</p>\n",
       "</div>"
      ],
      "text/plain": [
       "       method value\n",
       "0         NaN   NaN\n",
       "1         NaN   NaN\n",
       "2         NaN   NaN\n",
       "3         NaN   NaN\n",
       "4         NaN   NaN\n",
       "...       ...   ...\n",
       "309999    NaN   NaN\n",
       "310000    NaN   NaN\n",
       "310001    NaN   NaN\n",
       "310002    NaN   NaN\n",
       "310003    NaN   NaN\n",
       "\n",
       "[310004 rows x 2 columns]"
      ]
     },
     "execution_count": 134,
     "metadata": {},
     "output_type": "execute_result"
    }
   ],
   "source": [
    "finaldf"
   ]
  },
  {
   "cell_type": "code",
   "execution_count": 135,
   "metadata": {},
   "outputs": [],
   "source": [
    "finaldf.iloc[0:len(isaem),0] = \"iSAEM\"\n",
    "finaldf.iloc[(len(isaem)):(len(isaem)+ len(fittem)),0] = \"fiTTEM\"\n",
    "finaldf.iloc[(len(isaem)+ len(fittem)):(len(isaem)+ len(fittem)+len(vrttem)),0] = \"vrTTEM\"\n",
    "finaldf.iloc[(len(isaem)+ len(fittem)+len(vrttem)):(len(isaem)+ len(fittem)+len(vrttem)+len(iem)),0] = \"iEM\"\n",
    "finaldf.iloc[310000:310002,0] = \"EM\"\n",
    "finaldf.iloc[310002:310004,0] = \"SAEM\""
   ]
  },
  {
   "cell_type": "code",
   "execution_count": 136,
   "metadata": {},
   "outputs": [],
   "source": [
    "finaldf.iloc[0:len(isaem),1] = isaem\n",
    "finaldf.iloc[(len(isaem)):(len(isaem)+ len(fittem)),1] = fittem\n",
    "finaldf.iloc[(len(isaem)+ len(fittem)):(len(isaem)+ len(fittem)+len(vrttem)),1] = vrttem\n",
    "finaldf.iloc[(len(isaem)+ len(fittem)+len(vrttem)):(len(isaem)+ len(fittem)+len(vrttem)+len(iem)),1] = iem\n",
    "finaldf.iloc[310000:310002,1] = em\n",
    "finaldf.iloc[310002:310004,1] = saem"
   ]
  },
  {
   "cell_type": "code",
   "execution_count": 137,
   "metadata": {},
   "outputs": [],
   "source": [
    "finaldf.to_csv(r'final.txt', header=None, index=None, sep=' ', mode='a')"
   ]
  },
  {
   "cell_type": "code",
   "execution_count": null,
   "metadata": {},
   "outputs": [],
   "source": []
  }
 ],
 "metadata": {
  "kernelspec": {
   "display_name": "Python 3",
   "language": "python",
   "name": "python3"
  },
  "language_info": {
   "codemirror_mode": {
    "name": "ipython",
    "version": 3
   },
   "file_extension": ".py",
   "mimetype": "text/x-python",
   "name": "python",
   "nbconvert_exporter": "python",
   "pygments_lexer": "ipython3",
   "version": "3.7.6"
  }
 },
 "nbformat": 4,
 "nbformat_minor": 2
}
