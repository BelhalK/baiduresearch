{
 "cells": [
  {
   "cell_type": "markdown",
   "metadata": {
    "colab_type": "text",
    "id": "P20Z1RhWhPzX"
   },
   "source": [
    "##### Copyright 2018 The TensorFlow Authors.\n",
    "\n",
    "Licensed under the Apache License, Version 2.0 (the \"License\");"
   ]
  },
  {
   "cell_type": "code",
   "execution_count": 1,
   "metadata": {
    "colab": {},
    "colab_type": "code",
    "id": "qS8MroChhSxR"
   },
   "outputs": [],
   "source": [
    "#@title Licensed under the Apache License, Version 2.0 (the \"License\"); { display-mode: \"form\" }\n",
    "# you may not use this file except in compliance with the License.\n",
    "# You may obtain a copy of the License at\n",
    "#\n",
    "# https://www.apache.org/licenses/LICENSE-2.0\n",
    "#\n",
    "# Unless required by applicable law or agreed to in writing, software\n",
    "# distributed under the License is distributed on an \"AS IS\" BASIS,\n",
    "# WITHOUT WARRANTIES OR CONDITIONS OF ANY KIND, either express or implied.\n",
    "# See the License for the specific language governing permissions and\n",
    "# limitations under the License."
   ]
  },
  {
   "cell_type": "markdown",
   "metadata": {
    "colab_type": "text",
    "id": "Py-bl6M32ZXY"
   },
   "source": [
    "Probabilistic principal components analysis (PCA) is a\n",
    "dimensionality reduction technique that\n",
    "analyzes data via a lower dimensional latent space\n",
    "([Tipping and Bishop 1999](#1)). It is often\n",
    "used when there are missing values in the data or for multidimensional\n",
    "scaling."
   ]
  },
  {
   "cell_type": "markdown",
   "metadata": {
    "colab_type": "text",
    "id": "WHNNrlLNPbpA"
   },
   "source": [
    "## Imports"
   ]
  },
  {
   "cell_type": "code",
   "execution_count": 2,
   "metadata": {
    "colab": {},
    "colab_type": "code",
    "id": "mbM5dCFdUior"
   },
   "outputs": [],
   "source": [
    "import functools\n",
    "import warnings\n",
    "\n",
    "import matplotlib.pyplot as plt\n",
    "import numpy as np\n",
    "import seaborn as sns\n",
    "\n",
    "import tensorflow.compat.v2 as tf\n",
    "import tensorflow_probability as tfp\n",
    "\n",
    "from tensorflow_probability import distributions as tfd\n",
    "\n",
    "tf.enable_v2_behavior()\n",
    "\n",
    "plt.style.use(\"ggplot\")\n",
    "warnings.filterwarnings('ignore')"
   ]
  },
  {
   "cell_type": "markdown",
   "metadata": {
    "colab_type": "text",
    "id": "QjIXsU55eq-d"
   },
   "source": [
    "## The Model\n",
    "\n",
    "Consider a data set $\\mathbf{X} = \\{\\mathbf{x}_n\\}$ of $N$ data\n",
    "points, where each data point is $D$-dimensional, $\\mathbf{x}_n \\in\n",
    "\\mathbb{R}^D$. We aim to represent each $\\mathbf{x}_n$ under a latent\n",
    "variable $\\mathbf{z}_n \\in \\mathbb{R}^K$ with lower dimension, $K <\n",
    "D$. The set of principal axes $\\mathbf{W}$ relates the latent variables to\n",
    "the data.\n",
    "\n",
    "Specifically, we assume that each latent variable is normally distributed,\n",
    "\n",
    "\\begin{equation*}\n",
    "\\mathbf{z}_n \\sim N(\\mathbf{0}, \\mathbf{I}).\n",
    "\\end{equation*}\n",
    "\n",
    "The corresponding data point is generated via a projection,\n",
    "\n",
    "\\begin{equation*}\n",
    "\\mathbf{x}_n \\mid \\mathbf{z}_n\n",
    "\\sim N(\\mathbf{W}\\mathbf{z}_n, \\sigma^2\\mathbf{I}),\n",
    "\\end{equation*}\n",
    "\n",
    "where the matrix $\\mathbf{W}\\in\\mathbb{R}^{D\\times K}$ are known as\n",
    "the principal axes. In probabilistic PCA, we are typically interested in\n",
    "estimating the principal axes $\\mathbf{W}$ and the noise term\n",
    "$\\sigma^2$.\n",
    "\n",
    "Probabilistic PCA generalizes classical PCA. Marginalizing out the the\n",
    "latent variable, the distribution of each data point is\n",
    "\n",
    "\\begin{equation*}\n",
    "\\mathbf{x}_n \\sim N(\\mathbf{0}, \\mathbf{W}\\mathbf{W}^\\top + \\sigma^2\\mathbf{I}).\n",
    "\\end{equation*}\n",
    "\n",
    "Classical PCA is the specific case of probabilistic PCA when the\n",
    "covariance of the noise becomes infinitesimally small, $\\sigma^2 \\to 0$.\n",
    "\n",
    "We set up our model below. In our analysis, we assume $\\sigma$ is known, and\n",
    "instead of point estimating $\\mathbf{W}$ as a model parameter, we\n",
    "place a prior over it in order to infer a distribution over principal\n",
    "axes. We'll express the model as a TFP JointDistribution, specifically, we'll\n",
    "use [JointDistributionCoroutine](https://www.tensorflow.org/probability/api_docs/python/tfp/distributions/JointDistributionCoroutine)."
   ]
  },
  {
   "cell_type": "code",
   "execution_count": 3,
   "metadata": {
    "colab": {},
    "colab_type": "code",
    "id": "Gwc6maZifKnb"
   },
   "outputs": [],
   "source": [
    "Root = tfd.JointDistributionCoroutine.Root\n",
    "def probabilistic_pca(data_dim, latent_dim, num_datapoints, stddv_datapoints):\n",
    "  w = yield Root(tfd.Independent(\n",
    "      tfd.Normal(loc=tf.zeros([data_dim, latent_dim]),\n",
    "                 scale=2.0 * tf.ones([data_dim, latent_dim]),\n",
    "                 name=\"w\"), reinterpreted_batch_ndims=2))\n",
    "  z = yield Root(tfd.Independent(\n",
    "      tfd.Normal(loc=tf.zeros([latent_dim, num_datapoints]),\n",
    "                 scale=tf.ones([latent_dim, num_datapoints]),\n",
    "                 name=\"z\"), reinterpreted_batch_ndims=2))\n",
    "  x = yield tfd.Independent(tfd.Normal(\n",
    "      loc=tf.matmul(w, z),\n",
    "      scale=stddv_datapoints,\n",
    "      name=\"x\"), reinterpreted_batch_ndims=2)"
   ]
  },
  {
   "cell_type": "code",
   "execution_count": 4,
   "metadata": {
    "colab": {},
    "colab_type": "code",
    "id": "2whVRGHPdXNm"
   },
   "outputs": [],
   "source": [
    "num_datapoints = 5000\n",
    "data_dim = 2\n",
    "latent_dim = 1\n",
    "stddv_datapoints = 0.5\n",
    "\n",
    "concrete_ppca_model = functools.partial(probabilistic_pca,\n",
    "    data_dim=data_dim,\n",
    "    latent_dim=latent_dim,\n",
    "    num_datapoints=num_datapoints,\n",
    "    stddv_datapoints=stddv_datapoints)\n",
    "\n",
    "model = tfd.JointDistributionCoroutine(concrete_ppca_model)"
   ]
  },
  {
   "cell_type": "markdown",
   "metadata": {
    "colab_type": "text",
    "id": "x2zF-wrTVSK4"
   },
   "source": [
    "## The Data"
   ]
  },
  {
   "cell_type": "markdown",
   "metadata": {
    "colab_type": "text",
    "id": "n4HYhXlTVZ1_"
   },
   "source": [
    "We can use the model to generate data by sampling from the joint prior distribution."
   ]
  },
  {
   "cell_type": "code",
   "execution_count": 5,
   "metadata": {
    "colab": {
     "height": 85
    },
    "colab_type": "code",
    "id": "b23iIkX8VVyn",
    "outputId": "ddcfa310-060b-4945-93ae-4bdad421d95d"
   },
   "outputs": [
    {
     "name": "stdout",
     "output_type": "stream",
     "text": [
      "Principal axes:\n",
      "tf.Tensor(\n",
      "[[4.286984 ]\n",
      " [1.8413343]], shape=(2, 1), dtype=float32)\n"
     ]
    }
   ],
   "source": [
    "actual_w, actual_z, x_train = model.sample()\n",
    "\n",
    "print(\"Principal axes:\")\n",
    "print(actual_w)"
   ]
  },
  {
   "cell_type": "markdown",
   "metadata": {
    "colab_type": "text",
    "id": "O2ZdIFz7VuSO"
   },
   "source": [
    "We visualize the dataset."
   ]
  },
  {
   "cell_type": "code",
   "execution_count": 6,
   "metadata": {
    "colab": {
     "height": 290
    },
    "colab_type": "code",
    "id": "ubJJvk0KVyVW",
    "outputId": "caf4bde1-82ea-42ff-e61b-1e9a2ca2d760"
   },
   "outputs": [
    {
     "data": {
      "image/png": "[encoded data removed]",
      "text/plain": [
       "<Figure size 432x288 with 1 Axes>"
      ]
     },
     "metadata": {
      "needs_background": "light"
     },
     "output_type": "display_data"
    }
   ],
   "source": [
    "plt.scatter(x_train[0, :], x_train[1, :], color='blue', alpha=0.1)\n",
    "plt.axis([-20, 20, -20, 20])\n",
    "plt.title(\"Data set\")\n",
    "plt.show()"
   ]
  },
  {
   "cell_type": "markdown",
   "metadata": {
    "colab_type": "text",
    "id": "qIZepLMgItfq"
   },
   "source": [
    "## Maximum a Posteriori Inference\n",
    "\n",
    "We first search for the point estimate of latent variables that maximizes the posterior probability density. This is known as maximum a posteriori (MAP) inference, and is done by calculating the values of $\\mathbf{W}$ and $\\mathbf{Z}$ that maximise the posterior density $p(\\mathbf{W}, \\mathbf{Z} \\mid \\mathbf{X}) \\propto p(\\mathbf{W}, \\mathbf{Z}, \\mathbf{X})$.\n"
   ]
  },
  {
   "cell_type": "code",
   "execution_count": 7,
   "metadata": {
    "colab": {},
    "colab_type": "code",
    "id": "s2AvQAYqIh6K"
   },
   "outputs": [],
   "source": [
    "w = tf.Variable(np.ones([data_dim, latent_dim]), dtype=tf.float32)\n",
    "z = tf.Variable(np.ones([latent_dim, num_datapoints]), dtype=tf.float32)\n",
    "\n",
    "target_log_prob_fn = lambda w, z: model.log_prob((w, z, x_train))\n",
    "losses = tfp.math.minimize(lambda: -target_log_prob_fn(w, z),\n",
    "                           optimizer=tf.optimizers.Adam(learning_rate=0.05),\n",
    "                           num_steps=200)"
   ]
  },
  {
   "cell_type": "code",
   "execution_count": 8,
   "metadata": {
    "colab": {
     "height": 296
    },
    "colab_type": "code",
    "id": "ya-XoAtpY474",
    "outputId": "8a5aa23b-29c7-412a-e9be-1981124afbef"
   },
   "outputs": [
    {
     "data": {
      "text/plain": [
       "[<matplotlib.lines.Line2D at 0x14a603090>]"
      ]
     },
     "execution_count": 8,
     "metadata": {},
     "output_type": "execute_result"
    },
    {
     "data": {
      "image/png": "[encoded data removed]",
      "text/plain": [
       "<Figure size 432x288 with 1 Axes>"
      ]
     },
     "metadata": {
      "needs_background": "light"
     },
     "output_type": "display_data"
    }
   ],
   "source": [
    "plt.plot(losses)"
   ]
  },
  {
   "cell_type": "markdown",
   "metadata": {
    "colab_type": "text",
    "id": "TqTuhkTsP90b"
   },
   "source": [
    "We can use the model to sample data for the inferred values for $\\mathbf{W}$ and $\\mathbf{Z}$, and compare to the actual dataset we conditioned on."
   ]
  },
  {
   "cell_type": "code",
   "execution_count": 9,
   "metadata": {
    "colab": {
     "height": 347
    },
    "colab_type": "code",
    "id": "T3O6PHe3XX8a",
    "outputId": "f96414fa-7c1f-48de-cc89-24ef1f619e66"
   },
   "outputs": [
    {
     "name": "stdout",
     "output_type": "stream",
     "text": [
      "MAP-estimated axes:\n",
      "<tf.Variable 'Variable:0' shape=(2, 1) dtype=float32, numpy=\n",
      "array([[3.5709004],\n",
      "       [1.5516726]], dtype=float32)>\n"
     ]
    },
    {
     "data": {
      "image/png": "[encoded data removed]",
      "text/plain": [
       "<Figure size 432x288 with 1 Axes>"
      ]
     },
     "metadata": {
      "needs_background": "light"
     },
     "output_type": "display_data"
    }
   ],
   "source": [
    "print(\"MAP-estimated axes:\")\n",
    "print(w)\n",
    "\n",
    "_, _, x_generated = model.sample(value=(w, z, None))\n",
    "\n",
    "plt.scatter(x_train[0, :], x_train[1, :], color='blue', alpha=0.1, label='Actual data')\n",
    "plt.scatter(x_generated[0, :], x_generated[1, :], color='red', alpha=0.1, label='Simulated data (MAP)')\n",
    "plt.legend()\n",
    "plt.axis([-20, 20, -20, 20])\n",
    "plt.show()"
   ]
  },
  {
   "cell_type": "markdown",
   "metadata": {
    "colab_type": "text",
    "id": "YdtvGLvmg341"
   },
   "source": [
    "## Variational Inference\n",
    "\n",
    "MAP can be used to find the mode (or one of the modes) of the posterior distribution, but does not provide any other insights about it. We next use variational inference, where the posterior distribtion $p(\\mathbf{W}, \\mathbf{Z} \\mid \\mathbf{X})$ is approximated using a variational distribution $q(\\mathbf{W}, \\mathbf{Z})$ parametrised by $\\boldsymbol{\\lambda}$. The aim is to find the variational parameters $\\boldsymbol{\\lambda}$ that _minimize_ the KL divergence between q and the posterior, $\\mathrm{KL}(q(\\mathbf{W}, \\mathbf{Z}) \\mid\\mid p(\\mathbf{W}, \\mathbf{Z} \\mid \\mathbf{X}))$, or equivalently, that _maximize_ the evidence lower bound, $\\mathbb{E}_{q(\\mathbf{W},\\mathbf{Z};\\boldsymbol{\\lambda})}\\left[ \\log p(\\mathbf{W},\\mathbf{Z},\\mathbf{X}) - \\log q(\\mathbf{W},\\mathbf{Z}; \\boldsymbol{\\lambda}) \\right]$.\n"
   ]
  },
  {
   "cell_type": "code",
   "execution_count": 10,
   "metadata": {
    "colab": {},
    "colab_type": "code",
    "id": "BfXGOtI9g7bG"
   },
   "outputs": [],
   "source": [
    "qw_mean = tf.Variable(np.ones([data_dim, latent_dim]), dtype=tf.float32)\n",
    "qz_mean = tf.Variable(np.ones([latent_dim, num_datapoints]), dtype=tf.float32)\n",
    "qw_stddv = tf.nn.softplus(tf.Variable(-4 * np.ones([data_dim, latent_dim]), dtype=tf.float32))\n",
    "qz_stddv = tf.nn.softplus(tf.Variable(-4 * np.ones([latent_dim, num_datapoints]), dtype=tf.float32))\n",
    "def factored_normal_variational_model():\n",
    "  qw = yield Root(tfd.Independent(tfd.Normal(\n",
    "      loc=qw_mean, scale=qw_stddv, name=\"qw\"), reinterpreted_batch_ndims=2))\n",
    "  qz = yield Root(tfd.Independent(tfd.Normal(\n",
    "      loc=qz_mean, scale=qz_stddv, name=\"qz\"), reinterpreted_batch_ndims=2))\n",
    "\n",
    "surrogate_posterior = tfd.JointDistributionCoroutine(\n",
    "    factored_normal_variational_model)\n",
    "\n",
    "losses = tfp.vi.fit_surrogate_posterior(\n",
    "    target_log_prob_fn,\n",
    "    surrogate_posterior=surrogate_posterior,\n",
    "    optimizer=tf.optimizers.Adam(learning_rate=0.05),\n",
    "    num_steps=200)"
   ]
  },
  {
   "cell_type": "code",
   "execution_count": 11,
   "metadata": {
    "colab": {
     "height": 415
    },
    "colab_type": "code",
    "id": "iTmklbFhdHiV",
    "outputId": "f90a1949-3867-42a8-970e-f1158f081f03"
   },
   "outputs": [
    {
     "name": "stdout",
     "output_type": "stream",
     "text": [
      "Inferred axes:\n",
      "<tf.Variable 'Variable:0' shape=(2, 1) dtype=float32, numpy=\n",
      "array([[3.5591626],\n",
      "       [1.5642134]], dtype=float32)>\n",
      "Standard Deviation:\n",
      "tf.Tensor(\n",
      "[[0.01814996]\n",
      " [0.01814996]], shape=(2, 1), dtype=float32)\n"
     ]
    },
    {
     "data": {
      "image/png": "[encoded data removed]",
      "text/plain": [
       "<Figure size 432x288 with 1 Axes>"
      ]
     },
     "metadata": {
      "needs_background": "light"
     },
     "output_type": "display_data"
    }
   ],
   "source": [
    "print(\"Inferred axes:\")\n",
    "print(qw_mean)\n",
    "print(\"Standard Deviation:\")\n",
    "print(qw_stddv)\n",
    "\n",
    "plt.plot(losses)\n",
    "plt.show()"
   ]
  },
  {
   "cell_type": "code",
   "execution_count": 12,
   "metadata": {
    "colab": {
     "height": 279
    },
    "colab_type": "code",
    "id": "CpSsruVIqAv5",
    "outputId": "58b5d2f7-c171-40c7-9f75-d76e9324bb94"
   },
   "outputs": [
    {
     "data": {
      "image/png": "[encoded data removed]",
      "text/plain": [
       "<Figure size 432x288 with 1 Axes>"
      ]
     },
     "metadata": {
      "needs_background": "light"
     },
     "output_type": "display_data"
    }
   ],
   "source": [
    "posterior_samples = surrogate_posterior.sample(50)\n",
    "_, _, x_generated = model.sample(value=(posterior_samples))\n",
    "\n",
    "# It's a pain to plot all 5000 points for each of our 50 posterior samples, so\n",
    "# let's subsample to get the gist of the distribution.\n",
    "x_generated = tf.reshape(tf.transpose(x_generated, [1, 0, 2]), (2, -1))[:, ::47]\n",
    "\n",
    "plt.scatter(x_train[0, :], x_train[1, :], color='blue', alpha=0.1, label='Actual data')\n",
    "plt.scatter(x_generated[0, :], x_generated[1, :], color='red', alpha=0.1, label='Simulated data (VI)')\n",
    "plt.legend()\n",
    "plt.axis([-20, 20, -20, 20])\n",
    "plt.show()"
   ]
  },
  {
   "cell_type": "markdown",
   "metadata": {
    "colab_type": "text",
    "id": "ZJd8RbQxvyp6"
   },
   "source": [
    "#### References\n",
    "\n",
    "<a name='1'></a>[1]: Michael E. Tipping and Christopher M. Bishop. Probabilistic principal component analysis. _Journal of the Royal Statistical Society: Series B (Statistical Methodology)_, 61(3): 611-622, 1999."
   ]
  }
 ],
 "metadata": {
  "colab": {
   "collapsed_sections": [],
   "name": "Probabilistic_PCA.ipynb",
   "toc_visible": true
  },
  "kernelspec": {
   "display_name": "baiduenv",
   "language": "python",
   "name": "baiduenv"
  },
  "language_info": {
   "codemirror_mode": {
    "name": "ipython",
    "version": 3
   },
   "file_extension": ".py",
   "mimetype": "text/x-python",
   "name": "python",
   "nbconvert_exporter": "python",
   "pygments_lexer": "ipython3",
   "version": "3.7.4"
  }
 },
 "nbformat": 4,
 "nbformat_minor": 1
}
