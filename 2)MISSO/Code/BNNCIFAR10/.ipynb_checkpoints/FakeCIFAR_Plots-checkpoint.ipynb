{
 "cells": [
  {
   "cell_type": "code",
   "execution_count": 1,
   "metadata": {},
   "outputs": [],
   "source": [
    "from __future__ import absolute_import\n",
    "from __future__ import division\n",
    "from __future__ import print_function\n",
    "\n",
    "import os\n",
    "import warnings\n",
    "\n",
    "# Dependency imports\n",
    "from absl import flags\n",
    "import matplotlib\n",
    "import numpy as np\n",
    "import tensorflow.compat.v1 as tf\n",
    "import tensorflow_probability as tfp\n",
    "import pickle \n",
    "\n",
    "from models.bayesian_resnet import bayesian_resnet\n",
    "from models.bayesian_vgg import bayesian_vgg\n",
    "\n",
    "matplotlib.use(\"Agg\")\n",
    "warnings.simplefilter(action=\"ignore\")\n",
    "tfd = tfp.distributions\n",
    "\n",
    "IMAGE_SHAPE = [32, 32, 3]"
   ]
  },
  {
   "cell_type": "markdown",
   "metadata": {},
   "source": [
    "### SAVE AND LOAD LOSSES PICKLES"
   ]
  },
  {
   "cell_type": "code",
   "execution_count": 26,
   "metadata": {},
   "outputs": [],
   "source": [
    "import pickle"
   ]
  },
  {
   "cell_type": "code",
   "execution_count": null,
   "metadata": {},
   "outputs": [],
   "source": []
  },
  {
   "cell_type": "code",
   "execution_count": null,
   "metadata": {},
   "outputs": [],
   "source": [
    "##LOAD LOSSES\n",
    "with open ('finallosses/adam', 'rb') as fp:\n",
    "    adam = pickle.load(fp)\n",
    "with open ('finallosses/adagrad', 'rb') as fp:\n",
    "    adgrad = pickle.load(fp)\n",
    "#with open ('losses/adadelta', 'rb') as fp:\n",
    "#   adadelta = pickle.load(fp)\n",
    "#with open ('losses/rmsprop', 'rb') as fp:\n",
    "#    rmsprop = pickle.load(fp)"
   ]
  },
  {
   "cell_type": "code",
   "execution_count": null,
   "metadata": {},
   "outputs": [],
   "source": []
  },
  {
   "cell_type": "code",
   "execution_count": null,
   "metadata": {},
   "outputs": [],
   "source": []
  },
  {
   "cell_type": "markdown",
   "metadata": {},
   "source": [
    "## PLOTS"
   ]
  },
  {
   "cell_type": "code",
   "execution_count": 31,
   "metadata": {},
   "outputs": [],
   "source": [
    "%matplotlib inline\n",
    "import matplotlib.pyplot as plt\n",
    "import pylab"
   ]
  },
  {
   "cell_type": "code",
   "execution_count": 32,
   "metadata": {},
   "outputs": [],
   "source": [
    "def tsplotseveral(x, y, n=20, percentile_min=1, percentile_max=99, color='r', plot_mean=True, plot_median=False, line_color='k', **kwargs):\n",
    "    line_colors=['r','b','g','y','black']\n",
    "    colors=['r','b','g','y','black']\n",
    "    labels= ['ADAM','Momentum','BBB','MISSO','SAG']\n",
    "    i = 0\n",
    "    fig, axes = plt.subplots(nrows=1, ncols=1, figsize=(16, 3.5))\n",
    "    axes.set_facecolor('white')\n",
    "    axes.grid(linestyle='-', linewidth='0.2', color='grey')\n",
    "    axes.spines['bottom'].set_color('black')\n",
    "    axes.spines['top'].set_color('black') \n",
    "    axes.spines['right'].set_color('black')\n",
    "    axes.spines['left'].set_color('black')\n",
    "    \n",
    "    for element in y:\n",
    "      perc1 = np.percentile(element, np.linspace(percentile_min, 50, num=n, endpoint=False), axis=0)\n",
    "      perc2 = np.percentile(element, np.linspace(50, percentile_max, num=n+1)[1:], axis=0)\n",
    "\n",
    "\n",
    "      if 'alpha' in kwargs:\n",
    "          alpha = kwargs.pop('alpha')\n",
    "      else:\n",
    "          alpha = 1/n\n",
    "      alpha = 0.005\n",
    "      # fill lower and upper percentile groups\n",
    "      for p1, p2 in zip(perc1, perc2):\n",
    "          plt.fill_between(x, p1, p2, alpha=alpha, color=colors[i], edgecolor=None)\n",
    "\n",
    "\n",
    "      if plot_mean:\n",
    "          plt.plot(x, np.mean(element, axis=0), color=line_colors[i],label=labels[i])\n",
    "\n",
    "\n",
    "      if plot_median:\n",
    "          plt.plot(x, np.median(element, axis=0), color=line_colors[i],label=labels[i])\n",
    "      i += 1\n",
    "    leg = plt.legend(fontsize=18,fancybox=True, loc=0,ncol=3)\n",
    "    leg.get_frame().set_alpha(0.5)\n",
    "    plt.xlabel('Epoch', fontsize=20)\n",
    "    plt.ylabel('ELBO', fontsize=20)\n",
    "    plt.xticks(fontsize=16)\n",
    "    plt.yticks(fontsize=16)\n",
    "    plt.grid(linestyle='dotted',linewidth=2)\n",
    "    pylab.ticklabel_format(axis='y',style='sci',scilimits=(1,4))\n",
    "    fig.tight_layout()\n",
    "    return plt.gca()"
   ]
  },
  {
   "cell_type": "code",
   "execution_count": 33,
   "metadata": {},
   "outputs": [
    {
     "data": {
      "text/plain": [
       "10"
      ]
     },
     "execution_count": 33,
     "metadata": {},
     "output_type": "execute_result"
    }
   ],
   "source": [
    "iterations = len(adam[0])\n",
    "iterations"
   ]
  },
  {
   "cell_type": "code",
   "execution_count": 34,
   "metadata": {},
   "outputs": [],
   "source": [
    "itera = np.linspace(0,iterations,iterations)"
   ]
  },
  {
   "cell_type": "code",
   "execution_count": 35,
   "metadata": {},
   "outputs": [
    {
     "data": {
      "text/plain": [
       "<matplotlib.axes._subplots.AxesSubplot at 0x1480893d0>"
      ]
     },
     "execution_count": 35,
     "metadata": {},
     "output_type": "execute_result"
    },
    {
     "data": {
      "image/png": "[encoded data removed]",
      "text/plain": [
       "<Figure size 1152x252 with 1 Axes>"
      ]
     },
     "metadata": {
      "needs_background": "light"
     },
     "output_type": "display_data"
    }
   ],
   "source": [
    "tsplotseveral(itera,[adam, adagrad], n=100)"
   ]
  },
  {
   "cell_type": "code",
   "execution_count": null,
   "metadata": {},
   "outputs": [],
   "source": []
  }
 ],
 "metadata": {
  "kernelspec": {
   "display_name": "baiduenv",
   "language": "python",
   "name": "baiduenv"
  },
  "language_info": {
   "codemirror_mode": {
    "name": "ipython",
    "version": 3
   },
   "file_extension": ".py",
   "mimetype": "text/x-python",
   "name": "python",
   "nbconvert_exporter": "python",
   "pygments_lexer": "ipython3",
   "version": "3.7.4"
  }
 },
 "nbformat": 4,
 "nbformat_minor": 2
}
