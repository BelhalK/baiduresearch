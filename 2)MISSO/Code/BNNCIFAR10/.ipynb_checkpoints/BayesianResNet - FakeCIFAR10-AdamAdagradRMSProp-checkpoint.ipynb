{
 "cells": [
  {
   "cell_type": "code",
   "execution_count": 1,
   "metadata": {},
   "outputs": [],
   "source": [
    "from __future__ import absolute_import\n",
    "from __future__ import division\n",
    "from __future__ import print_function\n",
    "\n",
    "import os\n",
    "import warnings\n",
    "\n",
    "# Dependency imports\n",
    "from absl import flags\n",
    "import matplotlib\n",
    "import numpy as np\n",
    "import tensorflow.compat.v1 as tf\n",
    "import tensorflow_probability as tfp\n",
    "import pickle \n",
    "\n",
    "from models.bayesian_resnet import bayesian_resnet\n",
    "from models.bayesian_vgg import bayesian_vgg\n",
    "\n",
    "matplotlib.use(\"Agg\")\n",
    "warnings.simplefilter(action=\"ignore\")\n",
    "tfd = tfp.distributions\n",
    "\n",
    "IMAGE_SHAPE = [32, 32, 3]"
   ]
  },
  {
   "cell_type": "code",
   "execution_count": 2,
   "metadata": {},
   "outputs": [],
   "source": [
    "def build_input_pipeline(x_train, x_test, y_train, y_test,\n",
    "                         batch_size, valid_size):\n",
    "  \"\"\"Build an Iterator switching between train and heldout data.\"\"\"\n",
    "  x_train = x_train.astype(\"float32\")\n",
    "  x_test = x_test.astype(\"float32\")\n",
    "\n",
    "  x_train /= 255\n",
    "  x_test /= 255\n",
    "\n",
    "  y_train = y_train.flatten()\n",
    "  y_test = y_test.flatten()\n",
    "\n",
    "  if subtract_pixel_mean:\n",
    "    x_train_mean = np.mean(x_train, axis=0)\n",
    "    x_train -= x_train_mean\n",
    "    x_test -= x_train_mean\n",
    "\n",
    "  print(\"x_train shape:\" + str(x_train.shape))\n",
    "  print(str(x_train.shape[0]) + \" train samples\")\n",
    "  print(str(x_test.shape[0]) + \" test samples\")\n",
    "\n",
    "  # Build an iterator over training batches.\n",
    "  training_dataset = tf.data.Dataset.from_tensor_slices(\n",
    "      (x_train, np.int32(y_train)))\n",
    "  training_batches = training_dataset.shuffle(\n",
    "      50000, reshuffle_each_iteration=True).repeat().batch(batch_size)\n",
    "  training_iterator = tf.compat.v1.data.make_one_shot_iterator(training_batches)\n",
    "\n",
    "  # Build a iterator over the heldout set with batch_size=heldout_size,\n",
    "  # i.e., return the entire heldout set as a constant.\n",
    "  heldout_dataset = tf.data.Dataset.from_tensor_slices(\n",
    "      (x_test, np.int32(y_test)))\n",
    "  heldout_batches = heldout_dataset.repeat().batch(valid_size)\n",
    "  heldout_iterator = tf.compat.v1.data.make_one_shot_iterator(heldout_batches)\n",
    "\n",
    "  # Combine these into a feedable iterator that can switch between training\n",
    "  # and validation inputs.\n",
    "  handle = tf.compat.v1.placeholder(tf.string, shape=[])\n",
    "  feedable_iterator = tf.compat.v1.data.Iterator.from_string_handle(\n",
    "      handle, training_batches.output_types, training_batches.output_shapes)\n",
    "  images, labels = feedable_iterator.get_next()\n",
    "\n",
    "  return images, labels, handle, training_iterator, heldout_iterator"
   ]
  },
  {
   "cell_type": "code",
   "execution_count": 3,
   "metadata": {},
   "outputs": [],
   "source": [
    "def build_fake_data(num_examples):\n",
    "  \"\"\"Build fake CIFAR10-style data for unit testing.\"\"\"\n",
    "  num_examples = num_examples\n",
    "  x_train = np.random.rand(num_examples, *IMAGE_SHAPE).astype(np.float32)\n",
    "  y_train = np.random.permutation(np.arange(num_examples)).astype(np.int32)\n",
    "  x_test = np.random.rand(num_examples, *IMAGE_SHAPE).astype(np.float32)\n",
    "  y_test = np.random.permutation(np.arange(num_examples)).astype(np.int32)\n",
    "  return (x_train, y_train), (x_test, y_test)"
   ]
  },
  {
   "cell_type": "code",
   "execution_count": null,
   "metadata": {},
   "outputs": [],
   "source": []
  },
  {
   "cell_type": "code",
   "execution_count": 4,
   "metadata": {},
   "outputs": [],
   "source": [
    "model_dir = \"bnnmodels/\""
   ]
  },
  {
   "cell_type": "markdown",
   "metadata": {},
   "source": [
    "### Hyperparams"
   ]
  },
  {
   "cell_type": "code",
   "execution_count": 5,
   "metadata": {},
   "outputs": [],
   "source": [
    "#Generate fake data for now before switching to CIFAR10\n",
    "fake_data = True\n",
    "#batch_size = 128\n",
    "data_dir = \"data/\"\n",
    "eval_freq = 400\n",
    "num_monte_carlo = 50\n",
    "architecture = \"resnet\" # or \"vgg\"\n",
    "kernel_posterior_scale_mean = 0.9\n",
    "kernel_posterior_scale_constraint = 0.2\n",
    "kl_annealing = 50\n",
    "subtract_pixel_mean = True"
   ]
  },
  {
   "cell_type": "code",
   "execution_count": null,
   "metadata": {},
   "outputs": [],
   "source": []
  },
  {
   "cell_type": "code",
   "execution_count": 6,
   "metadata": {},
   "outputs": [],
   "source": [
    "from IPython.core.debugger import set_trace"
   ]
  },
  {
   "cell_type": "code",
   "execution_count": 7,
   "metadata": {},
   "outputs": [],
   "source": [
    "def run_experiment(algo,fake_data, batch_size, epochs, learning_rate,verbose):\n",
    "    with tf.Session() as sess:\n",
    "        \n",
    "        model_fn = bayesian_resnet\n",
    "        #model_fn = bayesian_vgg\n",
    "        model = model_fn(\n",
    "            IMAGE_SHAPE,\n",
    "            num_classes=10,\n",
    "            kernel_posterior_scale_mean=kernel_posterior_scale_mean,\n",
    "            kernel_posterior_scale_constraint=kernel_posterior_scale_constraint)\n",
    "        logits = model(images)\n",
    "        labels_distribution = tfd.Categorical(logits=logits)\n",
    "        t = tf.compat.v2.Variable(0.0)\n",
    "        kl_regularizer = t / (kl_annealing * len(x_train) / batch_size)\n",
    "\n",
    "        log_likelihood = labels_distribution.log_prob(labels)\n",
    "        neg_log_likelihood = -tf.reduce_mean(input_tensor=log_likelihood)\n",
    "        kl = sum(model.losses) / len(x_train) * tf.minimum(1.0, kl_regularizer)\n",
    "        loss = neg_log_likelihood + kl\n",
    "\n",
    "        predictions = tf.argmax(input=logits, axis=1)\n",
    "\n",
    "        with tf.compat.v1.name_scope(\"train\"):\n",
    "            train_accuracy, train_accuracy_update_op = tf.compat.v1.metrics.accuracy(\n",
    "              labels=labels, predictions=predictions)\n",
    "            if algo==\"adam\":\n",
    "                opt = tf.compat.v1.train.AdamOptimizer(learning_rate=learning_rate)\n",
    "            if algo==\"adagrad\":\n",
    "                opt = tf.compat.v1.train.AdagradOptimizer(learning_rate=learning_rate)\n",
    "            if algo==\"adadelta\":\n",
    "                opt = tf.compat.v1.train.AdadeltaOptimizer(learning_rate=learning_rate)\n",
    "            if algo==\"rmsprop\":\n",
    "                opt = tf.compat.v1.train.RMSPropOptimizer(learning_rate=learning_rate)\n",
    "\n",
    "            train_op = opt.minimize(loss)\n",
    "            update_step_op = tf.compat.v1.assign(t, t + 1)\n",
    "\n",
    "        with tf.compat.v1.name_scope(\"valid\"):\n",
    "            valid_accuracy, valid_accuracy_update_op = tf.compat.v1.metrics.accuracy(\n",
    "              labels=labels, predictions=predictions)\n",
    "\n",
    "            init_op = tf.group(tf.compat.v1.global_variables_initializer(),\n",
    "                           tf.compat.v1.local_variables_initializer())\n",
    "\n",
    "            stream_vars_valid = [v for v in tf.compat.v1.local_variables() if \"valid/\" in v.name]\n",
    "            reset_valid_op = tf.compat.v1.variables_initializer(stream_vars_valid)\n",
    "    \n",
    "    \n",
    "   # with tf.compat.v1.Session() as sess:\n",
    "        sess.run(init_op)\n",
    "\n",
    "        # Run the training loop\n",
    "        train_handle = sess.run(training_iterator.string_handle())\n",
    "        heldout_handle = sess.run(heldout_iterator.string_handle())\n",
    "        training_steps = int(\n",
    "          round(epochs * (len(x_train) / batch_size)))\n",
    "        \n",
    "        listkl = []\n",
    "        listloss = []\n",
    "        listaccuracy = []\n",
    "        print(training_steps)\n",
    "        for step in range(training_steps):\n",
    "            _ = sess.run([train_op,\n",
    "                      train_accuracy_update_op,\n",
    "                      update_step_op],\n",
    "                     feed_dict={handle: train_handle})\n",
    "            # Print loss values\n",
    "            #set_trace()\n",
    "            loss_value, accuracy_value, kl_value = sess.run(\n",
    "                  [loss, train_accuracy, kl], feed_dict={handle: train_handle})\n",
    "            print(\"Step: {:>3d} Loss: {:.3f} Accuracy: {:.3f} KL: {:.3f}\".format(\n",
    "                      step, loss_value, accuracy_value, kl_value))\n",
    "            listkl.append(kl_value)\n",
    "            listloss.append(loss_value)\n",
    "            listaccuracy.append(accuracy_value)\n",
    "        sess.run(reset_valid_op)\n",
    "        \n",
    "\n",
    "    return listloss,listkl\n",
    "    "
   ]
  },
  {
   "cell_type": "code",
   "execution_count": 18,
   "metadata": {},
   "outputs": [],
   "source": [
    "num_examples = 10\n",
    "batch_size = 2\n",
    "epochs = 30\n",
    "nb_runs = 1\n",
    "seed0 = 23456"
   ]
  },
  {
   "cell_type": "code",
   "execution_count": 19,
   "metadata": {
    "scrolled": true
   },
   "outputs": [
    {
     "name": "stdout",
     "output_type": "stream",
     "text": [
      "x_train shape:(10, 32, 32, 3)\n",
      "10 train samples\n",
      "10 test samples\n"
     ]
    }
   ],
   "source": [
    "with tf.Session() as sess:\n",
    "    if fake_data:\n",
    "        (x_train, y_train), (x_test, y_test) = build_fake_data(num_examples)\n",
    "    else:\n",
    "        (x_train, y_train), (x_test, y_test) = tf.keras.datasets.cifar10.load_data()\n",
    "\n",
    "    (images, labels, handle,\n",
    "     training_iterator,\n",
    "     heldout_iterator) = build_input_pipeline(x_train, x_test, y_train, y_test,\n",
    "                                              batch_size, 500)"
   ]
  },
  {
   "cell_type": "markdown",
   "metadata": {},
   "source": [
    "### ADAM"
   ]
  },
  {
   "cell_type": "code",
   "execution_count": 21,
   "metadata": {},
   "outputs": [],
   "source": [
    "lr_adam = 0.001"
   ]
  },
  {
   "cell_type": "code",
   "execution_count": 22,
   "metadata": {},
   "outputs": [
    {
     "name": "stdout",
     "output_type": "stream",
     "text": [
      "150\n",
      "Step:   0 Loss: 23167.188 Accuracy: 0.000 KL: 2399.101\n",
      "Step:   1 Loss: 77923.383 Accuracy: 0.000 KL: 4799.852\n",
      "Step:   2 Loss: 112931.484 Accuracy: 0.000 KL: 7201.123\n",
      "Step:   3 Loss: 119798.227 Accuracy: 0.125 KL: 9602.864\n",
      "Step:   4 Loss: 54492.953 Accuracy: 0.200 KL: 12005.002\n",
      "Step:   5 Loss: 271070.000 Accuracy: 0.167 KL: 14407.469\n",
      "Step:   6 Loss: 181814.312 Accuracy: 0.143 KL: 16810.217\n",
      "Step:   7 Loss: 33256.488 Accuracy: 0.125 KL: 19213.199\n",
      "Step:   8 Loss: 153234.047 Accuracy: 0.111 KL: 21616.391\n",
      "Step:   9 Loss: 156057.000 Accuracy: 0.100 KL: 24019.770\n",
      "Step:  10 Loss: 236245.016 Accuracy: 0.091 KL: 26423.297\n",
      "Step:  11 Loss: 148601.234 Accuracy: 0.083 KL: 28826.961\n",
      "Step:  12 Loss: 57474.703 Accuracy: 0.077 KL: 31230.744\n",
      "Step:  13 Loss: 180638.078 Accuracy: 0.071 KL: 33634.629\n",
      "Step:  14 Loss: 111812.484 Accuracy: 0.067 KL: 36038.605\n",
      "Step:  15 Loss: 162913.609 Accuracy: 0.062 KL: 38442.637\n",
      "Step:  16 Loss: 142069.109 Accuracy: 0.059 KL: 40846.750\n",
      "Step:  17 Loss: 232122.031 Accuracy: 0.083 KL: 43250.910\n",
      "Step:  18 Loss: 257139.688 Accuracy: 0.079 KL: 45655.117\n",
      "Step:  19 Loss: 126783.469 Accuracy: 0.075 KL: 48059.363\n",
      "Step:  20 Loss: 191719.062 Accuracy: 0.071 KL: 50463.652\n",
      "Step:  21 Loss: 76437.742 Accuracy: 0.068 KL: 52867.965\n",
      "Step:  22 Loss: 206241.141 Accuracy: 0.065 KL: 55272.301\n",
      "Step:  23 Loss: 235770.750 Accuracy: 0.083 KL: 57676.641\n",
      "Step:  24 Loss: 195483.562 Accuracy: 0.080 KL: 60081.023\n",
      "Step:  25 Loss: 95750.273 Accuracy: 0.077 KL: 62485.402\n",
      "Step:  26 Loss: 84108.625 Accuracy: 0.093 KL: 64889.809\n",
      "Step:  27 Loss: 206289.781 Accuracy: 0.089 KL: 67294.211\n",
      "Step:  28 Loss: 224907.000 Accuracy: 0.103 KL: 69698.617\n",
      "Step:  29 Loss: 282384.250 Accuracy: 0.117 KL: 72103.016\n",
      "Step:  30 Loss: 174138.688 Accuracy: 0.113 KL: 74507.430\n",
      "Step:  31 Loss: 248793.031 Accuracy: 0.109 KL: 76911.852\n",
      "Step:  32 Loss: 190049.969 Accuracy: 0.106 KL: 79316.258\n",
      "Step:  33 Loss: 165025.094 Accuracy: 0.103 KL: 81720.711\n",
      "Step:  34 Loss: 239762.406 Accuracy: 0.100 KL: 84125.156\n",
      "Step:  35 Loss: 226300.750 Accuracy: 0.097 KL: 86529.602\n",
      "Step:  36 Loss: 313069.625 Accuracy: 0.095 KL: 88934.047\n",
      "Step:  37 Loss: 171781.812 Accuracy: 0.105 KL: 91338.508\n",
      "Step:  38 Loss: 231854.703 Accuracy: 0.103 KL: 93742.984\n",
      "Step:  39 Loss: 266657.125 Accuracy: 0.100 KL: 96147.477\n",
      "Step:  40 Loss: 219619.375 Accuracy: 0.110 KL: 98551.977\n",
      "Step:  41 Loss: 157079.750 Accuracy: 0.107 KL: 100956.453\n",
      "Step:  42 Loss: 259504.422 Accuracy: 0.116 KL: 103360.953\n",
      "Step:  43 Loss: 215795.469 Accuracy: 0.125 KL: 105765.469\n",
      "Step:  44 Loss: 160969.094 Accuracy: 0.122 KL: 108169.961\n",
      "Step:  45 Loss: 211106.953 Accuracy: 0.120 KL: 110574.484\n",
      "Step:  46 Loss: 190763.453 Accuracy: 0.117 KL: 112979.047\n",
      "Step:  47 Loss: 234660.375 Accuracy: 0.125 KL: 115383.586\n",
      "Step:  48 Loss: 241182.281 Accuracy: 0.122 KL: 117788.109\n",
      "Step:  49 Loss: 127788.938 Accuracy: 0.120 KL: 120192.719\n",
      "Step:  50 Loss: 246186.438 Accuracy: 0.118 KL: 122597.305\n",
      "Step:  51 Loss: 434371.000 Accuracy: 0.125 KL: 125001.922\n",
      "Step:  52 Loss: 191309.234 Accuracy: 0.123 KL: 127406.555\n",
      "Step:  53 Loss: 373052.062 Accuracy: 0.120 KL: 129811.156\n",
      "Step:  54 Loss: 316768.438 Accuracy: 0.118 KL: 132215.812\n",
      "Step:  55 Loss: 276473.438 Accuracy: 0.116 KL: 134620.500\n",
      "Step:  56 Loss: 237971.375 Accuracy: 0.114 KL: 137025.172\n",
      "Step:  57 Loss: 224775.453 Accuracy: 0.112 KL: 139429.828\n",
      "Step:  58 Loss: 215275.531 Accuracy: 0.110 KL: 141834.547\n",
      "Step:  59 Loss: 209070.344 Accuracy: 0.108 KL: 144239.203\n",
      "Step:  60 Loss: 235720.156 Accuracy: 0.107 KL: 146643.906\n",
      "Step:  61 Loss: 199375.344 Accuracy: 0.105 KL: 149048.656\n",
      "Step:  62 Loss: 240098.562 Accuracy: 0.103 KL: 151453.344\n",
      "Step:  63 Loss: 348035.312 Accuracy: 0.109 KL: 153858.047\n",
      "Step:  64 Loss: 231927.906 Accuracy: 0.108 KL: 156262.734\n",
      "Step:  65 Loss: 175809.484 Accuracy: 0.106 KL: 158667.516\n",
      "Step:  66 Loss: 309545.188 Accuracy: 0.104 KL: 161072.234\n",
      "Step:  67 Loss: 243824.312 Accuracy: 0.103 KL: 163476.953\n",
      "Step:  68 Loss: 218304.219 Accuracy: 0.101 KL: 165881.703\n",
      "Step:  69 Loss: 198299.422 Accuracy: 0.100 KL: 168286.484\n",
      "Step:  70 Loss: 274376.688 Accuracy: 0.099 KL: 170691.250\n",
      "Step:  71 Loss: 266794.250 Accuracy: 0.097 KL: 173096.031\n",
      "Step:  72 Loss: 289207.844 Accuracy: 0.096 KL: 175500.859\n",
      "Step:  73 Loss: 262240.500 Accuracy: 0.101 KL: 177905.609\n",
      "Step:  74 Loss: 333039.438 Accuracy: 0.107 KL: 180310.359\n",
      "Step:  75 Loss: 375097.188 Accuracy: 0.105 KL: 182715.172\n",
      "Step:  76 Loss: 343079.719 Accuracy: 0.104 KL: 185119.984\n",
      "Step:  77 Loss: 256132.375 Accuracy: 0.103 KL: 187524.781\n",
      "Step:  78 Loss: 218535.734 Accuracy: 0.108 KL: 189929.578\n",
      "Step:  79 Loss: 300225.125 Accuracy: 0.106 KL: 192334.391\n",
      "Step:  80 Loss: 266546.625 Accuracy: 0.105 KL: 194739.281\n",
      "Step:  81 Loss: 291661.500 Accuracy: 0.104 KL: 197144.141\n",
      "Step:  82 Loss: 249024.656 Accuracy: 0.102 KL: 199548.984\n",
      "Step:  83 Loss: 270649.375 Accuracy: 0.101 KL: 201953.844\n",
      "Step:  84 Loss: 345471.250 Accuracy: 0.100 KL: 204358.750\n",
      "Step:  85 Loss: 276926.062 Accuracy: 0.105 KL: 206763.625\n",
      "Step:  86 Loss: 265757.781 Accuracy: 0.109 KL: 209168.531\n",
      "Step:  87 Loss: 314975.375 Accuracy: 0.108 KL: 211573.438\n",
      "Step:  88 Loss: 258861.094 Accuracy: 0.112 KL: 213978.391\n",
      "Step:  89 Loss: 357197.469 Accuracy: 0.111 KL: 216383.359\n",
      "Step:  90 Loss: 319407.906 Accuracy: 0.115 KL: 218788.234\n",
      "Step:  91 Loss: 315847.844 Accuracy: 0.120 KL: 221193.172\n",
      "Step:  92 Loss: 378853.219 Accuracy: 0.118 KL: 223598.125\n",
      "Step:  93 Loss: 417645.812 Accuracy: 0.122 KL: 226003.156\n",
      "Step:  94 Loss: 309377.656 Accuracy: 0.121 KL: 228408.109\n",
      "Step:  95 Loss: 283965.312 Accuracy: 0.120 KL: 230813.125\n",
      "Step:  96 Loss: 263579.219 Accuracy: 0.119 KL: 233218.094\n",
      "Step:  97 Loss: 299802.781 Accuracy: 0.117 KL: 235623.188\n",
      "Step:  98 Loss: 272224.500 Accuracy: 0.116 KL: 238028.219\n",
      "Step:  99 Loss: 321445.062 Accuracy: 0.115 KL: 240433.266\n",
      "Step: 100 Loss: 374686.469 Accuracy: 0.114 KL: 242838.312\n",
      "Step: 101 Loss: 390797.438 Accuracy: 0.113 KL: 245243.359\n",
      "Step: 102 Loss: 338473.062 Accuracy: 0.112 KL: 247648.531\n",
      "Step: 103 Loss: 299640.281 Accuracy: 0.111 KL: 250053.594\n",
      "Step: 104 Loss: 364616.125 Accuracy: 0.110 KL: 252458.703\n",
      "Step: 105 Loss: 285151.938 Accuracy: 0.108 KL: 254863.891\n",
      "Step: 106 Loss: 344498.062 Accuracy: 0.107 KL: 257269.031\n",
      "Step: 107 Loss: 353316.844 Accuracy: 0.111 KL: 259674.234\n",
      "Step: 108 Loss: 397829.875 Accuracy: 0.115 KL: 262079.375\n",
      "Step: 109 Loss: 412131.188 Accuracy: 0.114 KL: 264484.531\n",
      "Step: 110 Loss: 339943.875 Accuracy: 0.113 KL: 266889.656\n",
      "Step: 111 Loss: 338453.031 Accuracy: 0.112 KL: 269294.875\n",
      "Step: 112 Loss: 360140.219 Accuracy: 0.111 KL: 271700.094\n",
      "Step: 113 Loss: 311532.781 Accuracy: 0.110 KL: 274105.281\n",
      "Step: 114 Loss: 325395.406 Accuracy: 0.109 KL: 276510.531\n",
      "Step: 115 Loss: 315138.781 Accuracy: 0.108 KL: 278915.688\n",
      "Step: 116 Loss: 306478.438 Accuracy: 0.107 KL: 281320.906\n",
      "Step: 117 Loss: 381612.031 Accuracy: 0.110 KL: 283726.031\n",
      "Step: 118 Loss: 433423.750 Accuracy: 0.109 KL: 286131.344\n",
      "Step: 119 Loss: 342893.688 Accuracy: 0.108 KL: 288536.500\n",
      "Step: 120 Loss: 347145.750 Accuracy: 0.112 KL: 290941.750\n",
      "Step: 121 Loss: 342627.500 Accuracy: 0.111 KL: 293347.000\n",
      "Step: 122 Loss: 369100.688 Accuracy: 0.114 KL: 295752.219\n",
      "Step: 123 Loss: 379072.875 Accuracy: 0.113 KL: 298157.500\n",
      "Step: 124 Loss: 339362.656 Accuracy: 0.112 KL: 300562.781\n",
      "Step: 125 Loss: 427262.094 Accuracy: 0.111 KL: 302968.000\n",
      "Step: 126 Loss: 381740.906 Accuracy: 0.114 KL: 305373.250\n",
      "Step: 127 Loss: 396813.750 Accuracy: 0.113 KL: 307778.469\n",
      "Step: 128 Loss: 421565.406 Accuracy: 0.112 KL: 310183.750\n",
      "Step: 129 Loss: 404688.125 Accuracy: 0.112 KL: 312589.062\n",
      "Step: 130 Loss: 382801.750 Accuracy: 0.111 KL: 314994.375\n",
      "Step: 131 Loss: 412284.781 Accuracy: 0.110 KL: 317399.688\n",
      "Step: 132 Loss: 362178.812 Accuracy: 0.109 KL: 319805.000\n",
      "Step: 133 Loss: 478488.812 Accuracy: 0.108 KL: 322210.438\n",
      "Step: 134 Loss: 399111.500 Accuracy: 0.107 KL: 324615.781\n",
      "Step: 135 Loss: 420338.531 Accuracy: 0.107 KL: 327021.156\n",
      "Step: 136 Loss: 414441.594 Accuracy: 0.106 KL: 329426.656\n",
      "Step: 137 Loss: 433393.625 Accuracy: 0.105 KL: 331832.031\n",
      "Step: 138 Loss: 359758.062 Accuracy: 0.104 KL: 334237.531\n",
      "Step: 139 Loss: 376899.625 Accuracy: 0.104 KL: 336643.000\n",
      "Step: 140 Loss: 350599.219 Accuracy: 0.103 KL: 339048.500\n",
      "Step: 141 Loss: 421738.750 Accuracy: 0.102 KL: 341453.906\n",
      "Step: 142 Loss: 412123.250 Accuracy: 0.101 KL: 343859.375\n"
     ]
    },
    {
     "name": "stdout",
     "output_type": "stream",
     "text": [
      "Step: 143 Loss: 467975.656 Accuracy: 0.101 KL: 346264.812\n",
      "Step: 144 Loss: 438983.250 Accuracy: 0.100 KL: 348670.281\n",
      "Step: 145 Loss: 374117.406 Accuracy: 0.103 KL: 351075.625\n",
      "Step: 146 Loss: 422770.562 Accuracy: 0.102 KL: 353481.031\n",
      "Step: 147 Loss: 400707.719 Accuracy: 0.101 KL: 355886.531\n",
      "Step: 148 Loss: 385417.969 Accuracy: 0.101 KL: 358292.031\n",
      "Step: 149 Loss: 400598.812 Accuracy: 0.103 KL: 360697.438\n"
     ]
    }
   ],
   "source": [
    "adam = []\n",
    "for _ in range(nb_runs):\n",
    "    tf.random.set_random_seed(_*seed0)\n",
    "    loss, kl = run_experiment(algo='adam', \n",
    "                         fake_data=fake_data, \n",
    "                         batch_size = batch_size, \n",
    "                         epochs=epochs,\n",
    "                         learning_rate=lr_adam, \n",
    "                         verbose= True)\n",
    "    adam.append(loss)"
   ]
  },
  {
   "cell_type": "code",
   "execution_count": 40,
   "metadata": {},
   "outputs": [],
   "source": [
    "##SAVE LOSSES\n",
    "with open('losses/adam', 'wb') as fp: \n",
    "    pickle.dump(adam, fp)"
   ]
  },
  {
   "cell_type": "code",
   "execution_count": null,
   "metadata": {},
   "outputs": [],
   "source": [
    "with open('losses/adam', 'wb') as fp: \n",
    "    pickle.dump(adam, fp)"
   ]
  },
  {
   "cell_type": "code",
   "execution_count": null,
   "metadata": {},
   "outputs": [],
   "source": []
  },
  {
   "cell_type": "markdown",
   "metadata": {},
   "source": [
    "## Adagrad"
   ]
  },
  {
   "cell_type": "code",
   "execution_count": 30,
   "metadata": {},
   "outputs": [
    {
     "name": "stdout",
     "output_type": "stream",
     "text": [
      "WARNING:tensorflow:From /Users/karimimohammedbelhal/opt/anaconda3/lib/python3.7/site-packages/tensorflow_core/python/training/adagrad.py:76: calling Constant.__init__ (from tensorflow.python.ops.init_ops) with dtype is deprecated and will be removed in a future version.\n",
      "Instructions for updating:\n",
      "Call initializer instance with the dtype argument instead of passing it to the constructor\n",
      "150\n",
      "Step:   0 Loss: 129575.359 Accuracy: 0.000 KL: 2399.139\n",
      "Step:   1 Loss: 238440.594 Accuracy: 0.000 KL: 4798.485\n",
      "Step:   2 Loss: 27833.234 Accuracy: 0.000 KL: 7198.583\n",
      "Step:   3 Loss: 157217.469 Accuracy: 0.000 KL: 9599.025\n",
      "Step:   4 Loss: 64958.613 Accuracy: 0.000 KL: 11999.651\n",
      "Step:   5 Loss: 76222.070 Accuracy: 0.000 KL: 14400.425\n",
      "Step:   6 Loss: 24684.395 Accuracy: 0.000 KL: 16801.312\n",
      "Step:   7 Loss: 177477.109 Accuracy: 0.062 KL: 19202.240\n",
      "Step:   8 Loss: 332981.188 Accuracy: 0.056 KL: 21603.256\n",
      "Step:   9 Loss: 177108.344 Accuracy: 0.050 KL: 24004.352\n",
      "Step:  10 Loss: 128584.391 Accuracy: 0.091 KL: 26405.439\n",
      "Step:  11 Loss: 127862.102 Accuracy: 0.083 KL: 28806.607\n",
      "Step:  12 Loss: 320344.688 Accuracy: 0.077 KL: 31207.818\n",
      "Step:  13 Loss: 113899.727 Accuracy: 0.071 KL: 33609.078\n",
      "Step:  14 Loss: 153029.453 Accuracy: 0.067 KL: 36010.352\n",
      "Step:  15 Loss: 249755.500 Accuracy: 0.094 KL: 38411.617\n",
      "Step:  16 Loss: 230031.906 Accuracy: 0.118 KL: 40812.906\n",
      "Step:  17 Loss: 151431.062 Accuracy: 0.139 KL: 43214.211\n",
      "Step:  18 Loss: 132393.469 Accuracy: 0.158 KL: 45615.535\n",
      "Step:  19 Loss: 164399.906 Accuracy: 0.175 KL: 48016.867\n",
      "Step:  20 Loss: 148670.219 Accuracy: 0.167 KL: 50418.273\n",
      "Step:  21 Loss: 178959.266 Accuracy: 0.159 KL: 52819.715\n",
      "Step:  22 Loss: 136291.875 Accuracy: 0.152 KL: 55221.156\n",
      "Step:  23 Loss: 154972.766 Accuracy: 0.146 KL: 57622.590\n",
      "Step:  24 Loss: 159823.594 Accuracy: 0.160 KL: 60024.008\n",
      "Step:  25 Loss: 113647.156 Accuracy: 0.154 KL: 62425.512\n",
      "Step:  26 Loss: 127497.797 Accuracy: 0.167 KL: 64826.934\n",
      "Step:  27 Loss: 142731.031 Accuracy: 0.161 KL: 67228.445\n",
      "Step:  28 Loss: 270971.688 Accuracy: 0.155 KL: 69629.953\n",
      "Step:  29 Loss: 191501.438 Accuracy: 0.150 KL: 72031.477\n",
      "Step:  30 Loss: 236928.219 Accuracy: 0.145 KL: 74433.000\n",
      "Step:  31 Loss: 134296.797 Accuracy: 0.141 KL: 76834.531\n",
      "Step:  32 Loss: 205076.844 Accuracy: 0.136 KL: 79236.086\n",
      "Step:  33 Loss: 168458.281 Accuracy: 0.132 KL: 81637.609\n",
      "Step:  34 Loss: 363783.656 Accuracy: 0.129 KL: 84039.164\n",
      "Step:  35 Loss: 176562.219 Accuracy: 0.125 KL: 86440.727\n",
      "Step:  36 Loss: 208373.922 Accuracy: 0.122 KL: 88842.281\n",
      "Step:  37 Loss: 154830.656 Accuracy: 0.118 KL: 91243.859\n",
      "Step:  38 Loss: 217218.203 Accuracy: 0.115 KL: 93645.430\n",
      "Step:  39 Loss: 220268.672 Accuracy: 0.125 KL: 96046.977\n",
      "Step:  40 Loss: 166860.391 Accuracy: 0.122 KL: 98448.578\n",
      "Step:  41 Loss: 207085.531 Accuracy: 0.119 KL: 100850.172\n",
      "Step:  42 Loss: 285105.375 Accuracy: 0.116 KL: 103251.750\n",
      "Step:  43 Loss: 191475.094 Accuracy: 0.114 KL: 105653.383\n",
      "Step:  44 Loss: 232664.062 Accuracy: 0.111 KL: 108055.023\n",
      "Step:  45 Loss: 146662.250 Accuracy: 0.109 KL: 110456.656\n",
      "Step:  46 Loss: 336455.594 Accuracy: 0.106 KL: 112858.266\n",
      "Step:  47 Loss: 234557.828 Accuracy: 0.115 KL: 115259.875\n",
      "Step:  48 Loss: 286787.188 Accuracy: 0.112 KL: 117661.516\n",
      "Step:  49 Loss: 249946.359 Accuracy: 0.110 KL: 120063.164\n",
      "Step:  50 Loss: 268956.906 Accuracy: 0.108 KL: 122464.789\n",
      "Step:  51 Loss: 260444.594 Accuracy: 0.115 KL: 124866.422\n",
      "Step:  52 Loss: 223992.312 Accuracy: 0.113 KL: 127268.094\n",
      "Step:  53 Loss: 245095.375 Accuracy: 0.111 KL: 129669.742\n",
      "Step:  54 Loss: 238356.047 Accuracy: 0.109 KL: 132071.406\n",
      "Step:  55 Loss: 247472.625 Accuracy: 0.107 KL: 134473.094\n",
      "Step:  56 Loss: 336780.344 Accuracy: 0.105 KL: 136874.781\n",
      "Step:  57 Loss: 432312.500 Accuracy: 0.103 KL: 139276.453\n",
      "Step:  58 Loss: 361043.156 Accuracy: 0.102 KL: 141678.172\n",
      "Step:  59 Loss: 241916.688 Accuracy: 0.100 KL: 144079.859\n",
      "Step:  60 Loss: 260587.562 Accuracy: 0.098 KL: 146481.531\n",
      "Step:  61 Loss: 239323.500 Accuracy: 0.097 KL: 148883.234\n",
      "Step:  62 Loss: 210829.344 Accuracy: 0.095 KL: 151284.938\n",
      "Step:  63 Loss: 358098.438 Accuracy: 0.094 KL: 153686.625\n",
      "Step:  64 Loss: 243716.109 Accuracy: 0.092 KL: 156088.359\n",
      "Step:  65 Loss: 229825.172 Accuracy: 0.091 KL: 158490.062\n",
      "Step:  66 Loss: 282631.188 Accuracy: 0.090 KL: 160891.750\n",
      "Step:  67 Loss: 209621.438 Accuracy: 0.088 KL: 163293.453\n",
      "Step:  68 Loss: 225242.938 Accuracy: 0.087 KL: 165695.156\n",
      "Step:  69 Loss: 317743.656 Accuracy: 0.086 KL: 168096.875\n",
      "Step:  70 Loss: 232407.688 Accuracy: 0.092 KL: 170498.578\n",
      "Step:  71 Loss: 364100.625 Accuracy: 0.090 KL: 172900.281\n",
      "Step:  72 Loss: 340829.188 Accuracy: 0.089 KL: 175302.031\n",
      "Step:  73 Loss: 219851.062 Accuracy: 0.088 KL: 177703.766\n",
      "Step:  74 Loss: 313664.219 Accuracy: 0.087 KL: 180105.531\n",
      "Step:  75 Loss: 457647.062 Accuracy: 0.086 KL: 182507.297\n",
      "Step:  76 Loss: 226971.375 Accuracy: 0.084 KL: 184909.031\n",
      "Step:  77 Loss: 352919.406 Accuracy: 0.083 KL: 187310.734\n",
      "Step:  78 Loss: 403630.094 Accuracy: 0.082 KL: 189712.484\n",
      "Step:  79 Loss: 315490.500 Accuracy: 0.081 KL: 192114.234\n",
      "Step:  80 Loss: 300168.812 Accuracy: 0.080 KL: 194515.969\n",
      "Step:  81 Loss: 412116.406 Accuracy: 0.085 KL: 196917.719\n",
      "Step:  82 Loss: 328725.625 Accuracy: 0.090 KL: 199319.422\n",
      "Step:  83 Loss: 461796.938 Accuracy: 0.089 KL: 201721.188\n",
      "Step:  84 Loss: 429992.562 Accuracy: 0.088 KL: 204122.984\n",
      "Step:  85 Loss: 296866.875 Accuracy: 0.093 KL: 206524.734\n",
      "Step:  86 Loss: 413996.031 Accuracy: 0.092 KL: 208926.516\n",
      "Step:  87 Loss: 385057.688 Accuracy: 0.091 KL: 211328.266\n",
      "Step:  88 Loss: 350260.625 Accuracy: 0.090 KL: 213730.047\n",
      "Step:  89 Loss: 314510.000 Accuracy: 0.089 KL: 216131.812\n",
      "Step:  90 Loss: 218954.297 Accuracy: 0.093 KL: 218533.500\n",
      "Step:  91 Loss: 278291.281 Accuracy: 0.092 KL: 220935.250\n",
      "Step:  92 Loss: 309428.875 Accuracy: 0.091 KL: 223337.047\n",
      "Step:  93 Loss: 312748.625 Accuracy: 0.090 KL: 225738.797\n",
      "Step:  94 Loss: 283746.906 Accuracy: 0.089 KL: 228140.562\n",
      "Step:  95 Loss: 480462.562 Accuracy: 0.089 KL: 230542.359\n",
      "Step:  96 Loss: 330280.969 Accuracy: 0.088 KL: 232944.188\n",
      "Step:  97 Loss: 362650.656 Accuracy: 0.087 KL: 235345.969\n",
      "Step:  98 Loss: 398071.375 Accuracy: 0.086 KL: 237747.750\n",
      "Step:  99 Loss: 388544.094 Accuracy: 0.085 KL: 240149.500\n",
      "Step: 100 Loss: 435474.000 Accuracy: 0.084 KL: 242551.328\n",
      "Step: 101 Loss: 256192.781 Accuracy: 0.083 KL: 244953.109\n",
      "Step: 102 Loss: 278352.188 Accuracy: 0.087 KL: 247354.875\n",
      "Step: 103 Loss: 292608.906 Accuracy: 0.087 KL: 249756.641\n",
      "Step: 104 Loss: 344006.438 Accuracy: 0.086 KL: 252158.438\n",
      "Step: 105 Loss: 474475.625 Accuracy: 0.085 KL: 254560.281\n",
      "Step: 106 Loss: 315797.719 Accuracy: 0.084 KL: 256962.031\n",
      "Step: 107 Loss: 307861.031 Accuracy: 0.083 KL: 259363.812\n",
      "Step: 108 Loss: 362826.125 Accuracy: 0.083 KL: 261765.594\n",
      "Step: 109 Loss: 318814.000 Accuracy: 0.086 KL: 264167.406\n",
      "Step: 110 Loss: 337563.281 Accuracy: 0.086 KL: 266569.156\n",
      "Step: 111 Loss: 287226.094 Accuracy: 0.089 KL: 268970.969\n",
      "Step: 112 Loss: 412111.406 Accuracy: 0.088 KL: 271372.750\n",
      "Step: 113 Loss: 339457.469 Accuracy: 0.088 KL: 273774.531\n",
      "Step: 114 Loss: 467790.906 Accuracy: 0.087 KL: 276176.375\n",
      "Step: 115 Loss: 407719.938 Accuracy: 0.086 KL: 278578.219\n",
      "Step: 116 Loss: 389438.188 Accuracy: 0.085 KL: 280980.031\n",
      "Step: 117 Loss: 327198.844 Accuracy: 0.089 KL: 283381.844\n",
      "Step: 118 Loss: 414905.125 Accuracy: 0.092 KL: 285783.594\n",
      "Step: 119 Loss: 390067.406 Accuracy: 0.092 KL: 288185.438\n",
      "Step: 120 Loss: 371155.000 Accuracy: 0.091 KL: 290587.250\n",
      "Step: 121 Loss: 361997.406 Accuracy: 0.090 KL: 292989.094\n",
      "Step: 122 Loss: 430529.875 Accuracy: 0.089 KL: 295390.875\n",
      "Step: 123 Loss: 453066.750 Accuracy: 0.089 KL: 297792.719\n",
      "Step: 124 Loss: 557647.250 Accuracy: 0.092 KL: 300194.500\n",
      "Step: 125 Loss: 393227.531 Accuracy: 0.091 KL: 302596.312\n",
      "Step: 126 Loss: 412829.500 Accuracy: 0.091 KL: 304998.188\n",
      "Step: 127 Loss: 363174.500 Accuracy: 0.090 KL: 307400.031\n",
      "Step: 128 Loss: 404114.688 Accuracy: 0.089 KL: 309801.781\n",
      "Step: 129 Loss: 442811.781 Accuracy: 0.088 KL: 312203.562\n",
      "Step: 130 Loss: 505228.562 Accuracy: 0.088 KL: 314605.406\n",
      "Step: 131 Loss: 526504.375 Accuracy: 0.087 KL: 317007.219\n",
      "Step: 132 Loss: 594141.000 Accuracy: 0.086 KL: 319409.062\n",
      "Step: 133 Loss: 527860.375 Accuracy: 0.086 KL: 321810.844\n",
      "Step: 134 Loss: 577090.875 Accuracy: 0.085 KL: 324212.656\n",
      "Step: 135 Loss: 387557.844 Accuracy: 0.085 KL: 326614.500\n"
     ]
    },
    {
     "name": "stdout",
     "output_type": "stream",
     "text": [
      "Step: 136 Loss: 558921.250 Accuracy: 0.084 KL: 329016.344\n",
      "Step: 137 Loss: 585050.562 Accuracy: 0.087 KL: 331418.125\n",
      "Step: 138 Loss: 446720.000 Accuracy: 0.086 KL: 333819.938\n",
      "Step: 139 Loss: 454452.750 Accuracy: 0.089 KL: 336221.719\n",
      "Step: 140 Loss: 529128.625 Accuracy: 0.092 KL: 338623.500\n",
      "Step: 141 Loss: 540558.375 Accuracy: 0.092 KL: 341025.344\n",
      "Step: 142 Loss: 440603.594 Accuracy: 0.091 KL: 343427.219\n",
      "Step: 143 Loss: 383054.031 Accuracy: 0.090 KL: 345829.094\n",
      "Step: 144 Loss: 459272.281 Accuracy: 0.090 KL: 348230.938\n",
      "Step: 145 Loss: 446201.312 Accuracy: 0.089 KL: 350632.781\n",
      "Step: 146 Loss: 523099.281 Accuracy: 0.088 KL: 353034.625\n",
      "Step: 147 Loss: 552137.062 Accuracy: 0.088 KL: 355436.531\n",
      "Step: 148 Loss: 581512.312 Accuracy: 0.087 KL: 357838.406\n",
      "Step: 149 Loss: 498728.312 Accuracy: 0.087 KL: 360240.281\n"
     ]
    }
   ],
   "source": [
    "lr_adagrad = 0.001\n",
    "adagrad = []\n",
    "for _ in range(nb_runs):\n",
    "    tf.random.set_random_seed(_*seed0)\n",
    "    loss, kl = run_experiment(algo='adagrad', \n",
    "                         fake_data=fake_data, \n",
    "                         batch_size = batch_size, \n",
    "                         epochs=epochs,\n",
    "                         learning_rate=lr_adagrad, \n",
    "                         verbose= True)\n",
    "    adagrad.append(loss)"
   ]
  },
  {
   "cell_type": "code",
   "execution_count": null,
   "metadata": {},
   "outputs": [],
   "source": []
  },
  {
   "cell_type": "code",
   "execution_count": 42,
   "metadata": {},
   "outputs": [],
   "source": [
    "##SAVE LOSSES\n",
    "with open('losses/adagrad', 'wb') as fp: \n",
    "    pickle.dump(adagrad, fp)"
   ]
  },
  {
   "cell_type": "code",
   "execution_count": null,
   "metadata": {},
   "outputs": [],
   "source": [
    "with open('losses/adagrad_kl', 'wb') as fp: \n",
    "    pickle.dump(adagrad, fp)"
   ]
  },
  {
   "cell_type": "markdown",
   "metadata": {},
   "source": [
    "### Adadelta"
   ]
  },
  {
   "cell_type": "code",
   "execution_count": 43,
   "metadata": {},
   "outputs": [
    {
     "name": "stdout",
     "output_type": "stream",
     "text": [
      "6\n",
      "Step:   0 Loss: 133038.359 Accuracy: 0.000 KL: 6003.833\n",
      "Step:   1 Loss: 236830.594 Accuracy: 0.000 KL: 12007.666\n",
      "Step:   2 Loss: 195422.094 Accuracy: 0.000 KL: 18011.500\n",
      "Step:   3 Loss: 174776.781 Accuracy: 0.050 KL: 24015.334\n",
      "Step:   4 Loss: 139783.844 Accuracy: 0.080 KL: 30019.166\n",
      "Step:   5 Loss: 282096.094 Accuracy: 0.100 KL: 36023.000\n"
     ]
    }
   ],
   "source": [
    "lr_adadelta = 0.0001\n",
    "adadelta = []\n",
    "for _ in range(nb_runs):\n",
    "    tf.random.set_random_seed(_*seed0)\n",
    "    loss, kl = run_experiment(algo='adadelta', \n",
    "                         fake_data=fake_data, \n",
    "                         batch_size = batch_size, \n",
    "                         epochs=epochs,\n",
    "                         learning_rate=lr_adadelta, \n",
    "                         verbose= True)\n",
    "    adadelta.append(loss)"
   ]
  },
  {
   "cell_type": "code",
   "execution_count": null,
   "metadata": {},
   "outputs": [],
   "source": []
  },
  {
   "cell_type": "code",
   "execution_count": 44,
   "metadata": {},
   "outputs": [],
   "source": [
    "##SAVE LOSSES\n",
    "with open('losses/adadelta', 'wb') as fp: \n",
    "    pickle.dump(adadelta, fp)"
   ]
  },
  {
   "cell_type": "code",
   "execution_count": 22,
   "metadata": {},
   "outputs": [],
   "source": [
    "##SAVE KL\n",
    "with open('losses/adadelta_kl', 'wb') as fp: \n",
    "    pickle.dump(adadelta, fp)"
   ]
  },
  {
   "cell_type": "code",
   "execution_count": null,
   "metadata": {},
   "outputs": [],
   "source": []
  },
  {
   "cell_type": "markdown",
   "metadata": {},
   "source": [
    "### RMSProp"
   ]
  },
  {
   "cell_type": "code",
   "execution_count": 45,
   "metadata": {},
   "outputs": [
    {
     "name": "stdout",
     "output_type": "stream",
     "text": [
      "6\n",
      "Step:   0 Loss: 128279.750 Accuracy: 0.200 KL: 6003.211\n",
      "Step:   1 Loss: 141984.516 Accuracy: 0.200 KL: 12006.434\n",
      "Step:   2 Loss: 215526.781 Accuracy: 0.133 KL: 18009.834\n",
      "Step:   3 Loss: 117699.797 Accuracy: 0.150 KL: 24013.311\n",
      "Step:   4 Loss: 170875.078 Accuracy: 0.120 KL: 30016.838\n",
      "Step:   5 Loss: 220838.906 Accuracy: 0.133 KL: 36020.398\n"
     ]
    }
   ],
   "source": [
    "lr_rmsprop = 0.0001\n",
    "rmsprop = []\n",
    "for _ in range(nb_runs):\n",
    "    tf.random.set_random_seed(_*seed0)\n",
    "    loss, kl = run_experiment(algo='adagrad', \n",
    "                         fake_data=fake_data, \n",
    "                         batch_size = batch_size, \n",
    "                         epochs=epochs,\n",
    "                         learning_rate=lr_rmsprop, \n",
    "                         verbose= True)\n",
    "    rmsprop.append(loss)"
   ]
  },
  {
   "cell_type": "code",
   "execution_count": null,
   "metadata": {},
   "outputs": [],
   "source": []
  },
  {
   "cell_type": "code",
   "execution_count": 46,
   "metadata": {},
   "outputs": [],
   "source": [
    "##SAVE LOSSES\n",
    "with open('losses/rmsprop', 'wb') as fp: \n",
    "    pickle.dump(rmsprop, fp)"
   ]
  },
  {
   "cell_type": "code",
   "execution_count": 25,
   "metadata": {},
   "outputs": [],
   "source": [
    "with open('losses/rmsprop_kl', 'wb') as fp: \n",
    "    pickle.dump(rmsprop, fp)"
   ]
  },
  {
   "cell_type": "markdown",
   "metadata": {},
   "source": [
    "### SAVE AND LOAD LOSSES PICKLES"
   ]
  },
  {
   "cell_type": "code",
   "execution_count": null,
   "metadata": {},
   "outputs": [],
   "source": []
  },
  {
   "cell_type": "code",
   "execution_count": 49,
   "metadata": {},
   "outputs": [],
   "source": [
    "##LOAD LOSSES\n",
    "with open ('losses/adam', 'rb') as fp:\n",
    "    adam = pickle.load(fp)\n",
    "with open ('losses/adagrad', 'rb') as fp:\n",
    "    adgrad = pickle.load(fp)\n",
    "with open ('losses/adadelta', 'rb') as fp:\n",
    "    adadelta = pickle.load(fp)\n",
    "with open ('losses/rmsprop', 'rb') as fp:\n",
    "    rmsprop = pickle.load(fp)"
   ]
  },
  {
   "cell_type": "code",
   "execution_count": null,
   "metadata": {},
   "outputs": [],
   "source": []
  },
  {
   "cell_type": "code",
   "execution_count": null,
   "metadata": {},
   "outputs": [],
   "source": []
  },
  {
   "cell_type": "markdown",
   "metadata": {},
   "source": [
    "## PLOTS"
   ]
  },
  {
   "cell_type": "code",
   "execution_count": 13,
   "metadata": {},
   "outputs": [],
   "source": [
    "%matplotlib inline\n",
    "import matplotlib.pyplot as plt\n",
    "import pylab"
   ]
  },
  {
   "cell_type": "code",
   "execution_count": 26,
   "metadata": {},
   "outputs": [],
   "source": [
    "def tsplotseveral(x, y, n=20, percentile_min=1, percentile_max=99, color='r', plot_mean=True, plot_median=False, line_color='k', **kwargs):\n",
    "    line_colors=['r','b','g','y','black']\n",
    "    colors=['r','b','g','y','black']\n",
    "    labels= ['ADAM','Momentum','BBB','MISSO','SAG']\n",
    "    i = 0\n",
    "    fig, axes = plt.subplots(nrows=1, ncols=1, figsize=(16, 3.5))\n",
    "    axes.set_facecolor('white')\n",
    "    axes.grid(linestyle='-', linewidth='0.2', color='grey')\n",
    "    axes.spines['bottom'].set_color('black')\n",
    "    axes.spines['top'].set_color('black') \n",
    "    axes.spines['right'].set_color('black')\n",
    "    axes.spines['left'].set_color('black')\n",
    "    \n",
    "    for element in y:\n",
    "      perc1 = np.percentile(element, np.linspace(percentile_min, 50, num=n, endpoint=False), axis=0)\n",
    "      perc2 = np.percentile(element, np.linspace(50, percentile_max, num=n+1)[1:], axis=0)\n",
    "\n",
    "\n",
    "      if 'alpha' in kwargs:\n",
    "          alpha = kwargs.pop('alpha')\n",
    "      else:\n",
    "          alpha = 1/n\n",
    "      alpha = 0.005\n",
    "      # fill lower and upper percentile groups\n",
    "      for p1, p2 in zip(perc1, perc2):\n",
    "          plt.fill_between(x, p1, p2, alpha=alpha, color=colors[i], edgecolor=None)\n",
    "\n",
    "\n",
    "      if plot_mean:\n",
    "          plt.plot(x, np.mean(element, axis=0), color=line_colors[i],label=labels[i])\n",
    "\n",
    "\n",
    "      if plot_median:\n",
    "          plt.plot(x, np.median(element, axis=0), color=line_colors[i],label=labels[i])\n",
    "      i += 1\n",
    "    leg = plt.legend(fontsize=18,fancybox=True, loc=0,ncol=3)\n",
    "    leg.get_frame().set_alpha(0.5)\n",
    "    plt.xlabel('Epoch', fontsize=20)\n",
    "    plt.ylabel('ELBO', fontsize=20)\n",
    "    plt.xticks(fontsize=16)\n",
    "    plt.yticks(fontsize=16)\n",
    "    plt.grid(linestyle='dotted',linewidth=2)\n",
    "    pylab.ticklabel_format(axis='y',style='sci',scilimits=(1,4))\n",
    "    fig.tight_layout()\n",
    "    return plt.gca()"
   ]
  },
  {
   "cell_type": "code",
   "execution_count": 27,
   "metadata": {},
   "outputs": [
    {
     "data": {
      "text/plain": [
       "150"
      ]
     },
     "execution_count": 27,
     "metadata": {},
     "output_type": "execute_result"
    }
   ],
   "source": [
    "iterations = len(adam[0])\n",
    "iterations"
   ]
  },
  {
   "cell_type": "code",
   "execution_count": 28,
   "metadata": {},
   "outputs": [],
   "source": [
    "itera = np.linspace(0,iterations,iterations)"
   ]
  },
  {
   "cell_type": "code",
   "execution_count": 31,
   "metadata": {},
   "outputs": [
    {
     "data": {
      "text/plain": [
       "<matplotlib.axes._subplots.AxesSubplot at 0x153bd1a10>"
      ]
     },
     "execution_count": 31,
     "metadata": {},
     "output_type": "execute_result"
    },
    {
     "data": {
      "image/png": "[encoded data removed]",
      "text/plain": [
       "<Figure size 1152x252 with 1 Axes>"
      ]
     },
     "metadata": {
      "needs_background": "light"
     },
     "output_type": "display_data"
    }
   ],
   "source": [
    "tsplotseveral(itera,[adam, adagrad], n=100)"
   ]
  },
  {
   "cell_type": "code",
   "execution_count": 55,
   "metadata": {},
   "outputs": [
    {
     "data": {
      "text/plain": [
       "<matplotlib.axes._subplots.AxesSubplot at 0x156851310>"
      ]
     },
     "execution_count": 55,
     "metadata": {},
     "output_type": "execute_result"
    },
    {
     "data": {
      "image/png": "[encoded data removed]",
      "text/plain": [
       "<Figure size 1152x252 with 1 Axes>"
      ]
     },
     "metadata": {
      "needs_background": "light"
     },
     "output_type": "display_data"
    }
   ],
   "source": [
    "tsplotseveral(itera,[adam,adadelta,adagrad, rmsprop], n=100)"
   ]
  },
  {
   "cell_type": "code",
   "execution_count": null,
   "metadata": {},
   "outputs": [],
   "source": []
  }
 ],
 "metadata": {
  "kernelspec": {
   "display_name": "baiduenv",
   "language": "python",
   "name": "baiduenv"
  },
  "language_info": {
   "codemirror_mode": {
    "name": "ipython",
    "version": 3
   },
   "file_extension": ".py",
   "mimetype": "text/x-python",
   "name": "python",
   "nbconvert_exporter": "python",
   "pygments_lexer": "ipython3",
   "version": "3.7.4"
  }
 },
 "nbformat": 4,
 "nbformat_minor": 2
}
