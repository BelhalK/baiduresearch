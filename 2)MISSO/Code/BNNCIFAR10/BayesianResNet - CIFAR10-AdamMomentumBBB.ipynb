{
 "cells": [
  {
   "cell_type": "code",
   "execution_count": 36,
   "metadata": {},
   "outputs": [],
   "source": [
    "from __future__ import absolute_import\n",
    "from __future__ import division\n",
    "from __future__ import print_function\n",
    "\n",
    "import os\n",
    "import warnings\n",
    "\n",
    "# Dependency imports\n",
    "from absl import flags\n",
    "import matplotlib\n",
    "import numpy as np\n",
    "import tensorflow.compat.v1 as tf\n",
    "import tensorflow_probability as tfp\n",
    "\n",
    "from models.bayesian_resnet import bayesian_resnet\n",
    "from models.bayesian_vgg import bayesian_vgg\n",
    "\n",
    "matplotlib.use(\"Agg\")\n",
    "warnings.simplefilter(action=\"ignore\")\n",
    "tfd = tfp.distributions\n",
    "\n",
    "IMAGE_SHAPE = [32, 32, 3]"
   ]
  },
  {
   "cell_type": "code",
   "execution_count": 37,
   "metadata": {},
   "outputs": [],
   "source": [
    "def build_input_pipeline(x_train, x_test, y_train, y_test,\n",
    "                         batch_size, valid_size):\n",
    "  \"\"\"Build an Iterator switching between train and heldout data.\"\"\"\n",
    "  x_train = x_train.astype(\"float32\")\n",
    "  x_test = x_test.astype(\"float32\")\n",
    "\n",
    "  x_train /= 255\n",
    "  x_test /= 255\n",
    "\n",
    "  y_train = y_train.flatten()\n",
    "  y_test = y_test.flatten()\n",
    "\n",
    "  if subtract_pixel_mean:\n",
    "    x_train_mean = np.mean(x_train, axis=0)\n",
    "    x_train -= x_train_mean\n",
    "    x_test -= x_train_mean\n",
    "\n",
    "  print(\"x_train shape:\" + str(x_train.shape))\n",
    "  print(str(x_train.shape[0]) + \" train samples\")\n",
    "  print(str(x_test.shape[0]) + \" test samples\")\n",
    "\n",
    "  # Build an iterator over training batches.\n",
    "  training_dataset = tf.data.Dataset.from_tensor_slices(\n",
    "      (x_train, np.int32(y_train)))\n",
    "  training_batches = training_dataset.shuffle(\n",
    "      50000, reshuffle_each_iteration=True).repeat().batch(batch_size)\n",
    "  training_iterator = tf.compat.v1.data.make_one_shot_iterator(training_batches)\n",
    "\n",
    "  # Build a iterator over the heldout set with batch_size=heldout_size,\n",
    "  # i.e., return the entire heldout set as a constant.\n",
    "  heldout_dataset = tf.data.Dataset.from_tensor_slices(\n",
    "      (x_test, np.int32(y_test)))\n",
    "  heldout_batches = heldout_dataset.repeat().batch(valid_size)\n",
    "  heldout_iterator = tf.compat.v1.data.make_one_shot_iterator(heldout_batches)\n",
    "\n",
    "  # Combine these into a feedable iterator that can switch between training\n",
    "  # and validation inputs.\n",
    "  handle = tf.compat.v1.placeholder(tf.string, shape=[])\n",
    "  feedable_iterator = tf.compat.v1.data.Iterator.from_string_handle(\n",
    "      handle, training_batches.output_types, training_batches.output_shapes)\n",
    "  images, labels = feedable_iterator.get_next()\n",
    "\n",
    "  return images, labels, handle, training_iterator, heldout_iterator"
   ]
  },
  {
   "cell_type": "code",
   "execution_count": 51,
   "metadata": {},
   "outputs": [],
   "source": [
    "def build_fake_data(num_examples):\n",
    "  \"\"\"Build fake CIFAR10-style data for unit testing.\"\"\"\n",
    "  num_examples = num_examples\n",
    "  x_train = np.random.rand(num_examples, *IMAGE_SHAPE).astype(np.float32)\n",
    "  y_train = np.random.permutation(np.arange(num_examples)).astype(np.int32)\n",
    "  x_test = np.random.rand(num_examples, *IMAGE_SHAPE).astype(np.float32)\n",
    "  y_test = np.random.permutation(np.arange(num_examples)).astype(np.int32)\n",
    "  return (x_train, y_train), (x_test, y_test)"
   ]
  },
  {
   "cell_type": "code",
   "execution_count": 52,
   "metadata": {},
   "outputs": [],
   "source": [
    "model_dir = \"bnnmodels/\""
   ]
  },
  {
   "cell_type": "markdown",
   "metadata": {},
   "source": [
    "### Hyperparams"
   ]
  },
  {
   "cell_type": "code",
   "execution_count": 53,
   "metadata": {},
   "outputs": [],
   "source": [
    "#Generate fake data for now before switching to CIFAR10\n",
    "fake_data = True\n",
    "#batch_size = 128\n",
    "data_dir = \"data/\"\n",
    "eval_freq = 400\n",
    "num_monte_carlo = 50\n",
    "architecture = \"resnet\" # or \"vgg\"\n",
    "kernel_posterior_scale_mean = 0.9\n",
    "kernel_posterior_scale_constraint = 0.2\n",
    "kl_annealing = 50\n",
    "subtract_pixel_mean = True"
   ]
  },
  {
   "cell_type": "code",
   "execution_count": null,
   "metadata": {},
   "outputs": [],
   "source": []
  },
  {
   "cell_type": "code",
   "execution_count": 68,
   "metadata": {},
   "outputs": [],
   "source": [
    "from IPython.core.debugger import set_trace"
   ]
  },
  {
   "cell_type": "code",
   "execution_count": 74,
   "metadata": {},
   "outputs": [],
   "source": [
    "def run_experiment(algo,fake_data, batch_size, epochs, learning_rate,verbose):\n",
    "    with tf.Session() as sess:\n",
    "        \n",
    "        model_fn = bayesian_resnet\n",
    "        model = model_fn(\n",
    "            IMAGE_SHAPE,\n",
    "            num_classes=10,\n",
    "            kernel_posterior_scale_mean=kernel_posterior_scale_mean,\n",
    "            kernel_posterior_scale_constraint=kernel_posterior_scale_constraint)\n",
    "        logits = model(images)\n",
    "        labels_distribution = tfd.Categorical(logits=logits)\n",
    "        t = tf.compat.v2.Variable(0.0)\n",
    "        kl_regularizer = t / (kl_annealing * len(x_train) / batch_size)\n",
    "\n",
    "        log_likelihood = labels_distribution.log_prob(labels)\n",
    "        neg_log_likelihood = -tf.reduce_mean(input_tensor=log_likelihood)\n",
    "        kl = sum(model.losses) / len(x_train) * tf.minimum(1.0, kl_regularizer)\n",
    "        loss = neg_log_likelihood + kl\n",
    "\n",
    "        predictions = tf.argmax(input=logits, axis=1)\n",
    "\n",
    "        with tf.compat.v1.name_scope(\"train\"):\n",
    "            train_accuracy, train_accuracy_update_op = tf.compat.v1.metrics.accuracy(\n",
    "              labels=labels, predictions=predictions)\n",
    "            if algo==\"adam\":\n",
    "                opt = tf.compat.v1.train.AdamOptimizer(learning_rate=learning_rate)\n",
    "            if algo==\"bbb\":\n",
    "                opt = tf.compat.v1.train.GradientDescentOptimizer(learning_rate=learning_rate)\n",
    "            #if algo==\"misso\":\n",
    "            #    opt = tf.compat.v1.train.GradientDescentOptimizer(learning_rate=learning_rate)\n",
    "            if algo==\"momentum\":\n",
    "                opt = tf.compat.v1.train.MomentumOptimizer(learning_rate=learning_rate, momentum=5e-5)\n",
    "\n",
    "            train_op = opt.minimize(loss)\n",
    "            update_step_op = tf.compat.v1.assign(t, t + 1)\n",
    "\n",
    "        with tf.compat.v1.name_scope(\"valid\"):\n",
    "            valid_accuracy, valid_accuracy_update_op = tf.compat.v1.metrics.accuracy(\n",
    "              labels=labels, predictions=predictions)\n",
    "\n",
    "            init_op = tf.group(tf.compat.v1.global_variables_initializer(),\n",
    "                           tf.compat.v1.local_variables_initializer())\n",
    "\n",
    "            stream_vars_valid = [v for v in tf.compat.v1.local_variables() if \"valid/\" in v.name]\n",
    "            reset_valid_op = tf.compat.v1.variables_initializer(stream_vars_valid)\n",
    "    \n",
    "    with tf.compat.v1.Session() as sess:\n",
    "        sess.run(init_op)\n",
    "\n",
    "        # Run the training loop\n",
    "        train_handle = sess.run(training_iterator.string_handle())\n",
    "        heldout_handle = sess.run(heldout_iterator.string_handle())\n",
    "        training_steps = int(\n",
    "          round(epochs * (len(x_train) / batch_size)))\n",
    "        listloss = []\n",
    "        listaccuracy = []\n",
    "        print(training_steps)\n",
    "        for step in range(training_steps):\n",
    "            _ = sess.run([train_op,\n",
    "                      train_accuracy_update_op,\n",
    "                      update_step_op],\n",
    "                     feed_dict={handle: train_handle})\n",
    "            # Print loss values\n",
    "            #set_trace()\n",
    "            loss_value, accuracy_value, kl_value = sess.run(\n",
    "                  [loss, train_accuracy, kl], feed_dict={handle: train_handle})\n",
    "            print(\"Step: {:>3d} Loss: {:.3f} Accuracy: {:.3f} KL: {:.3f}\".format(\n",
    "                      step, loss_value, accuracy_value, kl_value))\n",
    "            listloss.append(loss_value)\n",
    "            listaccuracy.append(accuracy_value)\n",
    "        sess.run(reset_valid_op)\n",
    "    return listloss\n",
    "    "
   ]
  },
  {
   "cell_type": "code",
   "execution_count": 58,
   "metadata": {},
   "outputs": [],
   "source": [
    "batch_size = 2\n",
    "epochs = 2\n",
    "nb_runs = 1\n",
    "seed0 = 23456"
   ]
  },
  {
   "cell_type": "code",
   "execution_count": 59,
   "metadata": {},
   "outputs": [
    {
     "name": "stdout",
     "output_type": "stream",
     "text": [
      "x_train shape:(10, 32, 32, 3)\n",
      "10 train samples\n",
      "10 test samples\n"
     ]
    }
   ],
   "source": [
    "num_examples = 10\n",
    "with tf.Session() as sess:\n",
    "    if fake_data:\n",
    "        (x_train, y_train), (x_test, y_test) = build_fake_data(num_examples)\n",
    "    else:\n",
    "        (x_train, y_train), (x_test, y_test) = tf.keras.datasets.cifar10.load_data()\n",
    "\n",
    "    (images, labels, handle,\n",
    "     training_iterator,\n",
    "     heldout_iterator) = build_input_pipeline(x_train, x_test, y_train, y_test,\n",
    "                                              batch_size, 500)"
   ]
  },
  {
   "cell_type": "markdown",
   "metadata": {},
   "source": [
    "### ADAM"
   ]
  },
  {
   "cell_type": "code",
   "execution_count": 87,
   "metadata": {},
   "outputs": [],
   "source": [
    "lr_adam = 0.0001"
   ]
  },
  {
   "cell_type": "code",
   "execution_count": 88,
   "metadata": {},
   "outputs": [
    {
     "name": "stdout",
     "output_type": "stream",
     "text": [
      "10\n",
      "Step:   0 Loss: 283303.875 Accuracy: 0.000 KL: 2401.282\n",
      "Step:   1 Loss: 173383.219 Accuracy: 0.000 KL: 4802.729\n",
      "Step:   2 Loss: 98303.922 Accuracy: 0.000 KL: 7204.228\n",
      "Step:   3 Loss: 220095.438 Accuracy: 0.000 KL: 9605.771\n",
      "Step:   4 Loss: 216725.172 Accuracy: 0.000 KL: 12007.356\n",
      "Step:   5 Loss: 242606.141 Accuracy: 0.000 KL: 14408.973\n",
      "Step:   6 Loss: 227328.219 Accuracy: 0.071 KL: 16810.619\n",
      "Step:   7 Loss: 100184.359 Accuracy: 0.062 KL: 19212.289\n",
      "Step:   8 Loss: 290614.125 Accuracy: 0.056 KL: 21613.979\n",
      "Step:   9 Loss: 71656.719 Accuracy: 0.050 KL: 24015.688\n"
     ]
    }
   ],
   "source": [
    "adam = []\n",
    "for run in range(nb_runs):\n",
    "    tf.random.set_random_seed(seed0)\n",
    "    run = run_experiment(algo='adam', \n",
    "                         fake_data=fake_data, \n",
    "                         batch_size = batch_size, \n",
    "                         epochs=epochs,\n",
    "                         learning_rate=lr_adam, \n",
    "                         verbose= True)\n",
    "    adam.append(run)"
   ]
  },
  {
   "cell_type": "code",
   "execution_count": null,
   "metadata": {},
   "outputs": [],
   "source": []
  },
  {
   "cell_type": "code",
   "execution_count": null,
   "metadata": {},
   "outputs": [],
   "source": []
  },
  {
   "cell_type": "markdown",
   "metadata": {},
   "source": [
    "### BBB"
   ]
  },
  {
   "cell_type": "code",
   "execution_count": 111,
   "metadata": {},
   "outputs": [],
   "source": [
    "lr_bbb = 0.00000000001"
   ]
  },
  {
   "cell_type": "code",
   "execution_count": 112,
   "metadata": {},
   "outputs": [
    {
     "name": "stdout",
     "output_type": "stream",
     "text": [
      "10\n",
      "Step:   0 Loss: 3168632532308590592.000 Accuracy: 0.500 KL: 2402.056\n",
      "Step:   1 Loss: nan Accuracy: 0.250 KL: 2934252503040.000\n",
      "Step:   2 Loss: nan Accuracy: 0.167 KL: nan\n",
      "Step:   3 Loss: nan Accuracy: 0.125 KL: nan\n",
      "Step:   4 Loss: nan Accuracy: 0.200 KL: nan\n",
      "Step:   5 Loss: nan Accuracy: 0.167 KL: nan\n",
      "Step:   6 Loss: nan Accuracy: 0.143 KL: nan\n",
      "Step:   7 Loss: nan Accuracy: 0.125 KL: nan\n",
      "Step:   8 Loss: nan Accuracy: 0.111 KL: nan\n",
      "Step:   9 Loss: nan Accuracy: 0.100 KL: nan\n"
     ]
    }
   ],
   "source": [
    "bbb = []\n",
    "for run in range(nb_runs):\n",
    "    tf.random.set_random_seed(seed0)\n",
    "    run = run_experiment(algo='bbb', \n",
    "                         fake_data=fake_data, \n",
    "                         batch_size = batch_size, \n",
    "                         epochs=epochs,\n",
    "                         learning_rate=lr_bbb, \n",
    "                         verbose= True)\n",
    "    bbb.append(run)"
   ]
  },
  {
   "cell_type": "code",
   "execution_count": 20,
   "metadata": {
    "collapsed": true
   },
   "outputs": [
    {
     "data": {
      "text/plain": [
       "[[nan,\n",
       "  nan,\n",
       "  nan,\n",
       "  nan,\n",
       "  nan,\n",
       "  nan,\n",
       "  nan,\n",
       "  nan,\n",
       "  nan,\n",
       "  nan,\n",
       "  nan,\n",
       "  nan,\n",
       "  nan,\n",
       "  nan,\n",
       "  nan,\n",
       "  nan,\n",
       "  nan,\n",
       "  nan,\n",
       "  nan,\n",
       "  nan,\n",
       "  nan,\n",
       "  nan,\n",
       "  nan,\n",
       "  nan,\n",
       "  nan,\n",
       "  nan,\n",
       "  nan,\n",
       "  nan,\n",
       "  nan,\n",
       "  nan,\n",
       "  nan,\n",
       "  nan,\n",
       "  nan,\n",
       "  nan,\n",
       "  nan,\n",
       "  nan,\n",
       "  nan,\n",
       "  nan,\n",
       "  nan,\n",
       "  nan],\n",
       " [nan,\n",
       "  nan,\n",
       "  nan,\n",
       "  nan,\n",
       "  nan,\n",
       "  nan,\n",
       "  nan,\n",
       "  nan,\n",
       "  nan,\n",
       "  nan,\n",
       "  nan,\n",
       "  nan,\n",
       "  nan,\n",
       "  nan,\n",
       "  nan,\n",
       "  nan,\n",
       "  nan,\n",
       "  nan,\n",
       "  nan,\n",
       "  nan,\n",
       "  nan,\n",
       "  nan,\n",
       "  nan,\n",
       "  nan,\n",
       "  nan,\n",
       "  nan,\n",
       "  nan,\n",
       "  nan,\n",
       "  nan,\n",
       "  nan,\n",
       "  nan,\n",
       "  nan,\n",
       "  nan,\n",
       "  nan,\n",
       "  nan,\n",
       "  nan,\n",
       "  nan,\n",
       "  nan,\n",
       "  nan,\n",
       "  nan]]"
      ]
     },
     "execution_count": 20,
     "metadata": {},
     "output_type": "execute_result"
    }
   ],
   "source": [
    "bbb"
   ]
  },
  {
   "cell_type": "markdown",
   "metadata": {},
   "source": [
    "### Momentum"
   ]
  },
  {
   "cell_type": "code",
   "execution_count": 89,
   "metadata": {},
   "outputs": [],
   "source": [
    "lr_momentum = 0.00000000001"
   ]
  },
  {
   "cell_type": "code",
   "execution_count": 90,
   "metadata": {},
   "outputs": [
    {
     "name": "stdout",
     "output_type": "stream",
     "text": [
      "10\n",
      "Step:   0 Loss: 6889865728.000 Accuracy: 0.000 KL: 2401.575\n",
      "Step:   1 Loss: 4831248896.000 Accuracy: 0.000 KL: 4803.153\n",
      "Step:   2 Loss: 3334656768.000 Accuracy: 0.000 KL: 7204.730\n",
      "Step:   3 Loss: 1322116224.000 Accuracy: 0.000 KL: 9606.312\n",
      "Step:   4 Loss: 4090553344.000 Accuracy: 0.000 KL: 12007.890\n",
      "Step:   5 Loss: 4221291776.000 Accuracy: 0.000 KL: 14409.471\n",
      "Step:   6 Loss: 3271626752.000 Accuracy: 0.000 KL: 16811.053\n",
      "Step:   7 Loss: 2725320448.000 Accuracy: 0.062 KL: 19212.633\n",
      "Step:   8 Loss: 2961901056.000 Accuracy: 0.111 KL: 21614.213\n",
      "Step:   9 Loss: 3581644288.000 Accuracy: 0.100 KL: 24015.797\n"
     ]
    }
   ],
   "source": [
    "momentum = []\n",
    "for run in range(nb_runs):\n",
    "    tf.random.set_random_seed(seed0)\n",
    "    run = run_experiment(algo='momentum', \n",
    "                         fake_data=fake_data, \n",
    "                         batch_size = batch_size, \n",
    "                         epochs=epochs,\n",
    "                         learning_rate=lr_momentum, \n",
    "                         verbose= True)\n",
    "    momentum.append(run)"
   ]
  },
  {
   "cell_type": "markdown",
   "metadata": {},
   "source": [
    "### SAVE AND LOAD LOSSES PICKLES"
   ]
  },
  {
   "cell_type": "code",
   "execution_count": 92,
   "metadata": {},
   "outputs": [],
   "source": [
    "import pickle"
   ]
  },
  {
   "cell_type": "code",
   "execution_count": 93,
   "metadata": {},
   "outputs": [],
   "source": [
    "##SAVE LOSSES\n",
    "with open('losses/adam', 'wb') as fp: \n",
    "    pickle.dump(adam, fp)\n",
    "with open('losses/momentum', 'wb') as fp: \n",
    "    pickle.dump(momentum, fp)\n",
    "with open('losses/bbb', 'wb') as fp: \n",
    "    pickle.dump(bbb, fp)"
   ]
  },
  {
   "cell_type": "code",
   "execution_count": null,
   "metadata": {},
   "outputs": [],
   "source": []
  },
  {
   "cell_type": "code",
   "execution_count": null,
   "metadata": {},
   "outputs": [],
   "source": [
    "##LOAD LOSSES\n",
    "with open ('losses/bbbloss', 'rb') as fp:\n",
    "    bbb = pickle.load(fp)\n",
    "with open ('losses/missoloss', 'rb') as fp:\n",
    "    misso = pickle.load(fp)\n",
    "with open ('losses/adamloss', 'rb') as fp:\n",
    "    adam = pickle.load(fp)"
   ]
  },
  {
   "cell_type": "markdown",
   "metadata": {},
   "source": [
    "## PLOTS"
   ]
  },
  {
   "cell_type": "code",
   "execution_count": 103,
   "metadata": {},
   "outputs": [],
   "source": [
    "%matplotlib inline\n",
    "import matplotlib.pyplot as plt\n",
    "import pylab"
   ]
  },
  {
   "cell_type": "code",
   "execution_count": 104,
   "metadata": {},
   "outputs": [],
   "source": [
    "def tsplotseveral(x, y, n=20, percentile_min=1, percentile_max=99, color='r', plot_mean=True, plot_median=False, line_color='k', **kwargs):\n",
    "    line_colors=['r','b','g','y','black']\n",
    "    colors=['r','b','g','y','black']\n",
    "    labels= ['ADAM','Momentum','BBB','MISSO','SAG']\n",
    "    i = 0\n",
    "    fig, axes = plt.subplots(nrows=1, ncols=1, figsize=(16, 3.5))\n",
    "    axes.set_facecolor('white')\n",
    "    axes.grid(linestyle='-', linewidth='0.2', color='grey')\n",
    "    axes.spines['bottom'].set_color('black')\n",
    "    axes.spines['top'].set_color('black') \n",
    "    axes.spines['right'].set_color('black')\n",
    "    axes.spines['left'].set_color('black')\n",
    "    \n",
    "    for element in y:\n",
    "      perc1 = np.percentile(element, np.linspace(percentile_min, 50, num=n, endpoint=False), axis=0)\n",
    "      perc2 = np.percentile(element, np.linspace(50, percentile_max, num=n+1)[1:], axis=0)\n",
    "\n",
    "\n",
    "      if 'alpha' in kwargs:\n",
    "          alpha = kwargs.pop('alpha')\n",
    "      else:\n",
    "          alpha = 1/n\n",
    "      alpha = 0.005\n",
    "      # fill lower and upper percentile groups\n",
    "      for p1, p2 in zip(perc1, perc2):\n",
    "          plt.fill_between(x, p1, p2, alpha=alpha, color=colors[i], edgecolor=None)\n",
    "\n",
    "\n",
    "      if plot_mean:\n",
    "          plt.plot(x, np.mean(element, axis=0), color=line_colors[i],label=labels[i])\n",
    "\n",
    "\n",
    "      if plot_median:\n",
    "          plt.plot(x, np.median(element, axis=0), color=line_colors[i],label=labels[i])\n",
    "      i += 1\n",
    "    leg = plt.legend(fontsize=18,fancybox=True, loc=0,ncol=3)\n",
    "    leg.get_frame().set_alpha(0.5)\n",
    "    plt.xlabel('Epoch', fontsize=20)\n",
    "    plt.ylabel('Negated ELBO', fontsize=20)\n",
    "    plt.xticks(fontsize=16)\n",
    "    plt.yticks(fontsize=16)\n",
    "    plt.grid(linestyle='dotted',linewidth=2)\n",
    "    pylab.ticklabel_format(axis='y',style='sci',scilimits=(1,4))\n",
    "    fig.tight_layout()\n",
    "    return plt.gca()"
   ]
  },
  {
   "cell_type": "code",
   "execution_count": 105,
   "metadata": {},
   "outputs": [
    {
     "data": {
      "text/plain": [
       "10"
      ]
     },
     "execution_count": 105,
     "metadata": {},
     "output_type": "execute_result"
    }
   ],
   "source": [
    "iterations = len(adam[0])\n",
    "iterations"
   ]
  },
  {
   "cell_type": "code",
   "execution_count": 106,
   "metadata": {},
   "outputs": [],
   "source": [
    "itera = np.linspace(0,iterations,iterations)"
   ]
  },
  {
   "cell_type": "code",
   "execution_count": null,
   "metadata": {},
   "outputs": [],
   "source": []
  },
  {
   "cell_type": "code",
   "execution_count": 110,
   "metadata": {},
   "outputs": [
    {
     "data": {
      "text/plain": [
       "<matplotlib.axes._subplots.AxesSubplot at 0x172968d50>"
      ]
     },
     "execution_count": 110,
     "metadata": {},
     "output_type": "execute_result"
    },
    {
     "data": {
      "image/png": "[encoded data removed]",
      "text/plain": [
       "<Figure size 1152x252 with 1 Axes>"
      ]
     },
     "metadata": {
      "needs_background": "light"
     },
     "output_type": "display_data"
    }
   ],
   "source": [
    "tsplotseveral(itera,[adam, bbb, momentum], n=100)"
   ]
  },
  {
   "cell_type": "code",
   "execution_count": null,
   "metadata": {},
   "outputs": [],
   "source": []
  }
 ],
 "metadata": {
  "kernelspec": {
   "display_name": "baiduenv",
   "language": "python",
   "name": "baiduenv"
  },
  "language_info": {
   "codemirror_mode": {
    "name": "ipython",
    "version": 3
   },
   "file_extension": ".py",
   "mimetype": "text/x-python",
   "name": "python",
   "nbconvert_exporter": "python",
   "pygments_lexer": "ipython3",
   "version": "3.7.4"
  }
 },
 "nbformat": 4,
 "nbformat_minor": 2
}
